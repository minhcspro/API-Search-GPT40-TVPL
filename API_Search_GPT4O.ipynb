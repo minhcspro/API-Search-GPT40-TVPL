{
 "cells": [
  {
   "cell_type": "code",
   "execution_count": 1,
   "metadata": {},
   "outputs": [],
   "source": [
    "import time\n",
    "from duckduckgo_search import DDGS\n",
    "from sklearn.metrics.pairwise import cosine_similarity\n",
    "import json\n",
    "from bs4 import BeautifulSoup\n",
    "import requests\n",
    "from openai import OpenAI\n",
    "from langchain_text_splitters import MarkdownHeaderTextSplitter\n",
    "import markdownify "
   ]
  },
  {
   "cell_type": "code",
   "execution_count": 2,
   "metadata": {},
   "outputs": [
    {
     "name": "stderr",
     "output_type": "stream",
     "text": [
      "c:\\Users\\My_Pc\\anaconda3\\envs\\Minh-AI\\Lib\\site-packages\\sentence_transformers\\cross_encoder\\CrossEncoder.py:11: TqdmWarning: IProgress not found. Please update jupyter and ipywidgets. See https://ipywidgets.readthedocs.io/en/stable/user_install.html\n",
      "  from tqdm.autonotebook import tqdm, trange\n"
     ]
    }
   ],
   "source": [
    "from sentence_transformers import SentenceTransformer\n",
    "model = SentenceTransformer('keepitreal/vietnamese-sbert')"
   ]
  },
  {
   "cell_type": "code",
   "execution_count": 3,
   "metadata": {},
   "outputs": [],
   "source": [
    "import os\n",
    "\n",
    "os.environ[\"OPENAI_API_KEY\"] = \"sk-None-Y8DoDJRGH63XFz1edTyaT3BlbkFJMtiwHXQBmx5addWF1b57\""
   ]
  },
  {
   "cell_type": "code",
   "execution_count": 4,
   "metadata": {},
   "outputs": [],
   "source": [
    "# Hàm để chuyển đổi văn bản thành embedding\n",
    "def get_embedding(text, model):\n",
    "    return model.encode(text)"
   ]
  },
  {
   "cell_type": "code",
   "execution_count": 5,
   "metadata": {},
   "outputs": [],
   "source": [
    "def find_max_result_question(input_text, questions, model):\n",
    "    if not questions:\n",
    "        return input_text\n",
    "    embeddings = [get_embedding(doc.lower(), model) for doc in questions + [input_text.lower()]]\n",
    "    cosine_similarities = cosine_similarity([embeddings[-1]], embeddings[:-1])\n",
    "    \n",
    "    # Tìm câu có độ tương đồng cao nhất\n",
    "    max_similarity = max(cosine_similarities[0])\n",
    "    max_index = cosine_similarities[0].tolist().index(max_similarity)\n",
    "    return max_index"
   ]
  },
  {
   "cell_type": "code",
   "execution_count": 6,
   "metadata": {},
   "outputs": [],
   "source": [
    "def find_max_result_google_search(input_text, results, model):\n",
    "    documents = [temp['title'].lower() + ' ' + temp['body'].lower() for temp in results]\n",
    "    # title\n",
    "    if documents:\n",
    "        # Chuyển đổi các văn bản thành embeddings\n",
    "        embeddings = [get_embedding(doc.lower(), model) for doc in documents + [input_text.lower()]]\n",
    "        cosine_similarities = cosine_similarity([embeddings[-1]], embeddings[:-1])\n",
    "        \n",
    "        # Tìm câu có độ tương đồng cao nhất\n",
    "        max_similarity = max(cosine_similarities[0])\n",
    "        max_index = cosine_similarities[0].tolist().index(max_similarity)\n",
    "        return results[max_index]\n",
    "    return ''"
   ]
  },
  {
   "cell_type": "code",
   "execution_count": 7,
   "metadata": {},
   "outputs": [],
   "source": [
    "def google_search(input_text):\n",
    "    # black_list = '-site:https://thuvienphapluat.vn/cong-dong-dan-luat -site:https://thuvienphapluat.vn/van-ban'\n",
    "    # black_list = '-site:https://lawnet.vn -site:https://vksndtc.gov.vn -site:thuenhanuoc.vn -site:https://lawnet.vn/vb -site:https://thuvienphapluat.vn/cong-dong-dan-luat -site:psyme.org -site:youtube.com -site:luatminhkhue.vn -site:https://thuvienphapluat.vn/van-ban -site:https://covanphaply.vn/bang -site:https://vietnamnet.vn'\n",
    "    # + '+site:luatvietnam.vn ' \n",
    "    black_list = ' -site:https://vietnamtourism.gov.vn -site:https://thuvienphapluat.vn/van-ban -site:https://thuvienphapluat.vn/cong-dong-dan-luat -site:https://vi.wikipedia.org -site:https://careerviet.vn -site:https://lawkey.vn -site:https://chinhphu.vn/ -site:https://luatminhkhue.vn -site:https://dangkykinhdoanh.gov.vn -site:https://baomoi.com -site:https://gaadvisor.net/ -site:https://www.pace.edu.vn'\n",
    "    search_query = input_text + black_list\n",
    "    # #  + ' ' + black_list\n",
    "    # # search_query = f'site:luatvietnam.vn {input_text} OR site:thuvienphapluat.vn {input_text} {black_list}'\n",
    "    # 'site:luatvietnam.vn' + ' ' + \n",
    "    try:\n",
    "        results = DDGS().text(\n",
    "            keywords = search_query,\n",
    "            region = 'vn-vi',\n",
    "            safesearch= 'moderate',\n",
    "            # timelimit= 'y',\n",
    "            max_results= 5\n",
    "        )\n",
    "        # # Biểu thức regex để loại bỏ các URL không mong muốn\n",
    "        # regex_pattern = r'-d([1-9]|10)\\.html'\n",
    "        # # Lọc kết quả bằng regex\n",
    "        # filtered_results = [result for result in results if not re.search(regex_pattern, result['href'])]\n",
    "        return results\n",
    "    except Exception as e:\n",
    "        print(f\"Rate limit or other exception: {e}\")\n",
    "        # Wait for a random time between 5 to 10 seconds\n",
    "        time.sleep(21)\n",
    "        return google_search(input_text)"
   ]
  },
  {
   "cell_type": "markdown",
   "metadata": {},
   "source": [
    "test"
   ]
  },
  {
   "cell_type": "code",
   "execution_count": 8,
   "metadata": {},
   "outputs": [],
   "source": [
    "def crawl_data(data):  \n",
    "    headers = {'User-Agent': 'Mozilla/5.0 (Macintosh; Intel Mac OS X 10_10_1) AppleWebKit/537.36 (KHTML, like Gecko) Chrome/39.0.2171.95 Safari/537.36'}\n",
    "\n",
    "    # Gửi yêu cầu HTTP GET đến URL\n",
    "    response = requests.get(data.get('href'), headers=headers, verify= False)\n",
    "    # , verify= False\n",
    "    # response = requests.get(data.get('href'), headers=headers, verify=False, allow_redirects=True, max_redirects=10)\n",
    "    soup_data = BeautifulSoup(response.content, 'html5lib', from_encoding= 'utf-8')\n",
    "    for lead in soup_data.find_all(class_='lead'):\n",
    "        lead.decompose()\n",
    "    body_content = soup_data.find('body')\n",
    "    # Loại bỏ tất cả các phần tử có class=\"lead\"\n",
    "    # print(body_content)\n",
    "    return body_content"
   ]
  },
  {
   "cell_type": "markdown",
   "metadata": {},
   "source": [
    "main"
   ]
  },
  {
   "cell_type": "code",
   "execution_count": 9,
   "metadata": {},
   "outputs": [],
   "source": [
    "def post_request(url, headers):\n",
    "    response = requests.post(url, headers=headers)\n",
    "    return response.json()\n",
    "\n",
    "\n",
    "def post_request_key(url, headers, data):\n",
    "    try:\n",
    "        data = requests.post(url, headers=headers, data=json.dumps(data))\n",
    "        data.raise_for_status()  # Raise an error for bad status codes\n",
    "        return data.json()\n",
    "    except requests.exceptions.RequestException as e:\n",
    "        print(f\"Error: {e}\")\n",
    "        return None\n"
   ]
  },
  {
   "cell_type": "code",
   "execution_count": 10,
   "metadata": {},
   "outputs": [],
   "source": [
    "def get_api_lawid(lawtitle, model):\n",
    "    url1 = 'https://apids.thuvienphapluat.vn/auth/get-token?key=pvaG4gRG9lIiwiaWF0IjoxNTE2MjM5MDIyfQS563xADXH'\n",
    "    headers1 = {\n",
    "        'Cookie': 'Culture=vi; Culture=vi'\n",
    "    }\n",
    "    key = post_request(url1, headers1)\n",
    "    \n",
    "    payload = \"\"\n",
    "    url = f\"https://apids.thuvienphapluat.vn/data/search-document?q={lawtitle}\"\n",
    "    headers = {\n",
    "        'Authorization': 'Bearer ' + key['Data']['AccessToken'],\n",
    "        'Cookie': 'Culture=vi; Culture=vi; Culture=vi; Culture=vi; Culture=vi',\n",
    "        'Content-Type': 'application/json'\n",
    "    }\n",
    "    response = requests.request(\"POST\", url, headers=headers, data=payload)\n",
    "    result = response.text\n",
    "    result = json.loads(result)\n",
    "    lawtitle_list = []\n",
    "    for temp in result:\n",
    "        # print(temp['News_Subject'])\n",
    "        lawtitle_list.append(temp['News_Subject'])\n",
    "        # print(temp)\n",
    "        # print('----------------------')\n",
    "    # print(lawtitle_list[find_max_result_question(lawtitle, lawtitle_list, model)])\n",
    "    return result[find_max_result_question(lawtitle, lawtitle_list, model)]['LawID']"
   ]
  },
  {
   "cell_type": "code",
   "execution_count": 11,
   "metadata": {},
   "outputs": [
    {
     "name": "stdout",
     "output_type": "stream",
     "text": [
      "[\n",
      "  \"427301_190_0_0\"\n",
      "]\n"
     ]
    }
   ],
   "source": [
    "\n",
    "def generate_JSON_chunking(chunking):\n",
    "    client = OpenAI()\n",
    "    few_shot_examples = [\n",
    "        {\"role\": \"user\", \"content\": \"Theo Điều 15, Khoản 2, Điểm a của Luật Giao thông đường bộ, người điều khiển phương tiện phải tuân thủ tín hiệu đèn giao thông.\"},\n",
    "        {\"role\": \"assistant\", \"content\": '[{\"dieu\": 15, \"khoan\": 2, \"diem\": \"a\", \"ten_vanban\": \"Luật Giao thông đường bộ\"}]'},\n",
    "        {\"role\": \"user\", \"content\": \"Căn cứ theo Điều 12 Luật Bảo hiểm y tế 2008 (được sửa đổi bởi khoản 6 Điều 1 Luật Bảo hiểm y tế sửa đổi 2014), trẻ em là một trong những đối tượng bắt buộc phải tham gia bảo hiểm y tế. Cụ thể, Luật quy định rõ rằng trẻ em dưới 6 tuổi được cấp thẻ bảo hiểm y tế miễn phí, còn trẻ em từ 6 tuổi trở lên cũng phải tham gia bảo hiểm y tế theo quy định của pháp luật.\"},\n",
    "        {\"role\": \"assistant\", \"content\": '[{\"dieu\": 12, \"khoan\": 0, \"diem\": 0, \"ten_vanban\": \"Luật Bảo hiểm y tế 2008\"},{\"dieu\": 1, \"khoan\": 6, \"diem\": 0, \"ten_vanban\": \"Luật Bảo hiểm y tế sửa đổi 2014\"}]'}\n",
    "    ]\n",
    "\n",
    "    prompt = f\"\"\"\n",
    "    Bạn là trợ lý hữu ích, hãy giúp người dùng xác định các thông tin pháp luật được nêu trong thông tin sau:\n",
    "    - Điều\n",
    "    - Khoản\n",
    "    - Điểm\n",
    "    - Tên văn bản pháp luật\n",
    "    Quy tắc:\n",
    "    - Đoạn văn có thể chứa nhiều văn bản pháp luật\n",
    "    - <Tên văn bản pháp luật> bắt buộc phải có\n",
    "    - Các thông tin còn lại có thể có đề cập hoặc không. Nếu có đề cập HÃY trả về thông tin đó, Nếu không đề cập HÃY mặc định bằng 0.\n",
    "\n",
    "    Trả lại kết quả theo cấu trúc JSON như sau:\n",
    "    [\n",
    "        {{\n",
    "            \"dieu\": <Điều>,\n",
    "            \"khoan\": <Khoản>,\n",
    "            \"diem\": <Điểm>,\n",
    "            \"ten_vanban\": <Tên văn bản pháp luật>\n",
    "        }},\n",
    "        ...\n",
    "    ]\n",
    "    LƯU Ý:\n",
    "    - Chỉ trả về dạng JSON, không thêm bất cứ thông tin nào.\n",
    "    - Trả về một mảng các đối tượng JSON, mỗi đối tượng tương ứng với một văn bản pháp luật được đề cập.\n",
    "\n",
    "    Thông tin của người dùng: {chunking}\n",
    "    \"\"\"\n",
    "    \n",
    "    try:\n",
    "        messages = [\n",
    "            {\"role\": \"system\", \"content\": \"Bạn là một trợ lý AI hữu ích cho việc trích xuất các thông tin về văn bản luật của Việt Nam.\"}\n",
    "        ]\n",
    "        messages.extend(few_shot_examples)\n",
    "        messages.append({\"role\": \"user\", \"content\": prompt})\n",
    "        \n",
    "        response = client.chat.completions.create(\n",
    "            model= \"gpt-4o-mini\",\n",
    "            messages=messages,\n",
    "            max_tokens=200,\n",
    "        )\n",
    "        \n",
    "        # Lấy nội dung phản hồi\n",
    "        content = response.choices[0].message.content\n",
    "        \n",
    "        # Chuyển đổi chuỗi JSON thành đối tượng Python\n",
    "        json_data = json.loads(content)\n",
    "        \n",
    "        return json_data\n",
    "    except Exception as e:\n",
    "        print(f\"Lỗi khi xử lý chunking: {e}\")\n",
    "        return None\n",
    "\n",
    "def process_text(text, model):\n",
    "    try:\n",
    "        result = generate_JSON_chunking(text)\n",
    "        ccpls_code = []\n",
    "        for ccpl in result:\n",
    "            lawid = get_api_lawid(ccpl['ten_vanban'], model)\n",
    "            ccpls_code.append(str(lawid) +'_'+ str(ccpl['dieu']) + '_'+ str(ccpl['khoan']) +'_'+ str(ccpl['diem']))\n",
    "        return ccpls_code\n",
    "    except Exception as e:\n",
    "        print(f\"Lỗi khi xử lý văn bản: {e}\")\n",
    "        return None\n",
    "\n",
    "# Sử dụng hàm\n",
    "input_text = \"\"\"\n",
    "Trong trường hợp doanh nghiệp tư nhân không có tư cách pháp nhân, nếu có tranh chấp hoặc kiện tụng, người khởi kiện sẽ kiện chủ doanh nghiệp tư nhân. Cụ thể, theo quy định tại Điều 190 của Luật Doanh nghiệp 2020, chủ doanh nghiệp tư nhân là người đại diện theo pháp luật cho doanh nghiệp và sẽ chịu trách nhiệm về mọi hoạt động kinh doanh của doanh nghiệp.\\\\n\\\\nDo đó, khi có tranh chấp phát sinh từ hoạt động kinh doanh của doanh nghiệp tư nhân, các bên liên quan sẽ kiện chủ doanh nghiệp tư nhân, không phải kiện doanh nghiệp tư nhân. Chủ doanh nghiệp sẽ phải đứng ra giải quyết các vấn đề pháp lý liên quan đến doanh nghiệp của mình.\n",
    "\"\"\"\n",
    "\n",
    "result = process_text(input_text, model)\n",
    "print(json.dumps(result, indent=2, ensure_ascii=False))"
   ]
  },
  {
   "cell_type": "code",
   "execution_count": 12,
   "metadata": {},
   "outputs": [],
   "source": [
    "def api_search_for_test(input, model_similar):\n",
    "    client = OpenAI()\n",
    "    gooole_request = google_search(input)\n",
    "    # print(gooole_request)\n",
    "    matching_result = find_max_result_google_search(input, gooole_request, model_similar)\n",
    "    print(matching_result['href'])\n",
    "    tes1 = crawl_data(matching_result)\n",
    "    body_html = str(tes1)\n",
    "    data_content = markdownify.markdownify(body_html, heading_style=\"ATX\")\n",
    "    headers_to_split_on = [\n",
    "    # (\"#\", \"Header 1\"),\n",
    "    (\"##\", \"Header 2\"),\n",
    "    # (\"###\", \"Header 3\"),\n",
    "    ]\n",
    "\n",
    "    markdown_splitter = MarkdownHeaderTextSplitter(headers_to_split_on=headers_to_split_on)\n",
    "    md_header_splits = markdown_splitter.split_text(data_content)\n",
    "    if len(md_header_splits) < 2:\n",
    "        headers_to_split_on = [(\"#\", \"Header 1\"),]\n",
    "        markdown_splitter = MarkdownHeaderTextSplitter(headers_to_split_on=headers_to_split_on)\n",
    "        md_header_splits = markdown_splitter.split_text(data_content)\n",
    "    # print(len(md_header_splits))\n",
    "    # print(md_header_splits)\n",
    "    # print(\"-------------------------------\")\n",
    "    header_ques = []\n",
    "    content_ans = []\n",
    "    for temp in md_header_splits:\n",
    "        temp1 = temp.metadata\n",
    "        # print(temp1)\n",
    "        plain_text = ' '.join(list(temp1.values())).replace('**', '')\n",
    "        if plain_text != \"\" and \".html\" not in plain_text and \"[\" not in plain_text and \"văn bản liên quan\" not in plain_text.lower() and \"hỏi đáp pháp luật liên quan\" not in plain_text.lower():\n",
    "            header_ques.append(plain_text)\n",
    "            content_ans.append(temp.page_content)\n",
    "        # print(plain_text)\n",
    "    # if not header_ques:\n",
    "    #     headers_to_split_on = [(\"#\", \"Header 1\"),]\n",
    "         \n",
    "    # print(content_temp[-1])\n",
    "    # print(find_max_result_question(input, header_ques, model))\n",
    "    answer_content = content_ans[find_max_result_question(input, header_ques, model_similar)]\n",
    "    # print(header_ques[find_max_result_question(input, header_ques, model)])\n",
    "    # print(\"-------------------------------\")\n",
    "    # print(answer_content)\n",
    "    # print(\"-------------------------------\")\n",
    "    prompt = \"\"\"\n",
    "        Bạn là một chuyên gia Luật tại Việt Nam, bạn hãy dựa vào nội dung bên dưới và cung cấp cho người dùng câu trả lời chính xác, trung thực và phải luôn có trích dẫn pháp lý trong nội dung trả lời.\n",
    "        \"\"\"\n",
    "        # Câu trả lời mở đầu bằng căn cứ theo điểm, khoản, Điều, tên văn bản nếu có...\n",
    "\n",
    "    MODEL = \"gpt-4o-mini\"\n",
    "    response = client.chat.completions.create(\n",
    "        model=MODEL,\n",
    "        messages=[\n",
    "            # {\"role\": \"system\", \"content\": \"bạn là một chuyên gia về luật. \"},\n",
    "            {\"role\": \"system\", \"content\": prompt},\n",
    "            {\"role\": \"assistant\", \"content\": answer_content},\n",
    "            {\"role\": \"user\", \"content\": input},\n",
    "        ],\n",
    "        temperature = 0.1,\n",
    "    )\n",
    "\n",
    "    # Bước 2: Phân tích cú pháp JSON\n",
    "    data = json.loads(response.model_dump_json())\n",
    "    token_using_output = []\n",
    "    token_using = {\n",
    "        \"model\": data['model'],\n",
    "        \"completion_tokens\": data['usage']['completion_tokens'],\n",
    "        \"prompt_tokens\": data['usage']['prompt_tokens']\n",
    "    }\n",
    "    token_using_output.append(token_using)\n",
    "    answer_for_bot = data['choices'][0]['message']['content']\n",
    "    # split_text[0].strip()\n",
    "    output_api_search = {\n",
    "        \"answer\": answer_for_bot,\n",
    "        \"ccpls\": process_text(answer_for_bot, model_similar),\n",
    "        # \"answer\": answer_for_bot,\n",
    "        # \"ccpls\": split_text[1].strip(),\n",
    "        \"usage\": token_using_output\n",
    "    }\n",
    "    # print(header_ques)\n",
    "    return json.dumps(output_api_search, ensure_ascii=False)"
   ]
  },
  {
   "cell_type": "code",
   "execution_count": 13,
   "metadata": {},
   "outputs": [],
   "source": [
    "from sentence_transformers import SentenceTransformer\n",
    "model = SentenceTransformer('keepitreal/vietnamese-sbert')"
   ]
  },
  {
   "cell_type": "code",
   "execution_count": 15,
   "metadata": {},
   "outputs": [
    {
     "name": "stdout",
     "output_type": "stream",
     "text": [
      "Rate limit or other exception: https://duckduckgo.com/ return None. params=None content=None data={'q': 'Doanh nghiệp FDI khi bán buôn rượu có bắt buộc phải có hợp đồng nguyên tắc của thương nhân sản xuất rượu? -site:https://vietnamtourism.gov.vn -site:https://thuvienphapluat.vn/van-ban -site:https://thuvienphapluat.vn/cong-dong-dan-luat -site:https://vi.wikipedia.org -site:https://careerviet.vn -site:https://lawkey.vn -site:https://chinhphu.vn/ -site:https://luatminhkhue.vn -site:https://dangkykinhdoanh.gov.vn -site:https://baomoi.com -site:https://gaadvisor.net/ -site:https://www.pace.edu.vn'}\n"
     ]
    }
   ],
   "source": [
    "api_search_for_test('Doanh nghiệp FDI khi bán buôn rượu có bắt buộc phải có hợp đồng nguyên tắc của thương nhân sản xuất rượu?', model)"
   ]
  },
  {
   "cell_type": "code",
   "execution_count": null,
   "metadata": {},
   "outputs": [
    {
     "name": "stdout",
     "output_type": "stream",
     "text": [
      "https://thienluatphat.vn/doanh-nghiep-la-gi\n"
     ]
    },
    {
     "name": "stderr",
     "output_type": "stream",
     "text": [
      "c:\\Users\\My_Pc\\anaconda3\\envs\\Minh-AI\\Lib\\site-packages\\urllib3\\connectionpool.py:1099: InsecureRequestWarning: Unverified HTTPS request is being made to host 'thienluatphat.vn'. Adding certificate verification is strongly advised. See: https://urllib3.readthedocs.io/en/latest/advanced-usage.html#tls-warnings\n",
      "  warnings.warn(\n"
     ]
    },
    {
     "name": "stdout",
     "output_type": "stream",
     "text": [
      "https://thuvienphapluat.vn/chinh-sach-phap-luat-moi/vn/ho-tro-phap-luat/tu-van-phap-luat/58090/le-phi-dang-ky-doanh-nghiep-nam-2024-la-bao-nhieu\n"
     ]
    },
    {
     "name": "stderr",
     "output_type": "stream",
     "text": [
      "c:\\Users\\My_Pc\\anaconda3\\envs\\Minh-AI\\Lib\\site-packages\\urllib3\\connectionpool.py:1099: InsecureRequestWarning: Unverified HTTPS request is being made to host 'thuvienphapluat.vn'. Adding certificate verification is strongly advised. See: https://urllib3.readthedocs.io/en/latest/advanced-usage.html#tls-warnings\n",
      "  warnings.warn(\n"
     ]
    },
    {
     "name": "stdout",
     "output_type": "stream",
     "text": [
      "https://thuvienphapluat.vn/chinh-sach-phap-luat-moi/vn/ho-tro-phap-luat/chinh-sach-moi/37296/tieu-chi-xac-dinh-doanh-nghiep-nho-va-vua-moi-nhat\n"
     ]
    },
    {
     "name": "stderr",
     "output_type": "stream",
     "text": [
      "c:\\Users\\My_Pc\\anaconda3\\envs\\Minh-AI\\Lib\\site-packages\\urllib3\\connectionpool.py:1099: InsecureRequestWarning: Unverified HTTPS request is being made to host 'thuvienphapluat.vn'. Adding certificate verification is strongly advised. See: https://urllib3.readthedocs.io/en/latest/advanced-usage.html#tls-warnings\n",
      "  warnings.warn(\n"
     ]
    },
    {
     "name": "stdout",
     "output_type": "stream",
     "text": [
      "https://thuvienphapluat.vn/banan/tin-tuc/mot-so-van-de-ve-ap-dung-an-le-tap-quan-va-le-cong-bang-o-viet-nam-hien-nay-5643\n"
     ]
    },
    {
     "name": "stderr",
     "output_type": "stream",
     "text": [
      "c:\\Users\\My_Pc\\anaconda3\\envs\\Minh-AI\\Lib\\site-packages\\urllib3\\connectionpool.py:1099: InsecureRequestWarning: Unverified HTTPS request is being made to host 'thuvienphapluat.vn'. Adding certificate verification is strongly advised. See: https://urllib3.readthedocs.io/en/latest/advanced-usage.html#tls-warnings\n",
      "  warnings.warn(\n"
     ]
    },
    {
     "name": "stdout",
     "output_type": "stream",
     "text": [
      "https://tinlaw.vn/muc-thue-phai-nop-doi-voi-ho-kinh-doanh-nha-hang-dich-vu-an-uong/\n"
     ]
    },
    {
     "name": "stderr",
     "output_type": "stream",
     "text": [
      "c:\\Users\\My_Pc\\anaconda3\\envs\\Minh-AI\\Lib\\site-packages\\urllib3\\connectionpool.py:1099: InsecureRequestWarning: Unverified HTTPS request is being made to host 'tinlaw.vn'. Adding certificate verification is strongly advised. See: https://urllib3.readthedocs.io/en/latest/advanced-usage.html#tls-warnings\n",
      "  warnings.warn(\n"
     ]
    },
    {
     "name": "stdout",
     "output_type": "stream",
     "text": [
      "https://luatvietnam.vn/hanh-chinh/thu-tuc-lam-can-cuoc-cho-tre-em-tu-ngay-01-7-2024-570-96962-article.html\n"
     ]
    },
    {
     "name": "stderr",
     "output_type": "stream",
     "text": [
      "c:\\Users\\My_Pc\\anaconda3\\envs\\Minh-AI\\Lib\\site-packages\\urllib3\\connectionpool.py:1099: InsecureRequestWarning: Unverified HTTPS request is being made to host 'luatvietnam.vn'. Adding certificate verification is strongly advised. See: https://urllib3.readthedocs.io/en/latest/advanced-usage.html#tls-warnings\n",
      "  warnings.warn(\n"
     ]
    },
    {
     "name": "stdout",
     "output_type": "stream",
     "text": [
      "https://luatvietnam.vn/hanh-chinh/bao-nhieu-tuoi-duoc-lam-can-cuoc-cong-dan-570-89710-article.html\n"
     ]
    },
    {
     "name": "stderr",
     "output_type": "stream",
     "text": [
      "c:\\Users\\My_Pc\\anaconda3\\envs\\Minh-AI\\Lib\\site-packages\\urllib3\\connectionpool.py:1099: InsecureRequestWarning: Unverified HTTPS request is being made to host 'luatvietnam.vn'. Adding certificate verification is strongly advised. See: https://urllib3.readthedocs.io/en/latest/advanced-usage.html#tls-warnings\n",
      "  warnings.warn(\n"
     ]
    },
    {
     "name": "stdout",
     "output_type": "stream",
     "text": [
      "https://thuvienphapluat.vn/chinh-sach-phap-luat-moi/vn/ho-tro-phap-luat/tu-van-phap-luat/34958/di-lam-cccd-gan-chip-can-mang-theo-giay-to-gi\n"
     ]
    },
    {
     "name": "stderr",
     "output_type": "stream",
     "text": [
      "c:\\Users\\My_Pc\\anaconda3\\envs\\Minh-AI\\Lib\\site-packages\\urllib3\\connectionpool.py:1099: InsecureRequestWarning: Unverified HTTPS request is being made to host 'thuvienphapluat.vn'. Adding certificate verification is strongly advised. See: https://urllib3.readthedocs.io/en/latest/advanced-usage.html#tls-warnings\n",
      "  warnings.warn(\n"
     ]
    },
    {
     "name": "stdout",
     "output_type": "stream",
     "text": [
      "https://thuvienphapluat.vn/phap-luat/quy-dinh-ve-hinh-thanh-tai-san-chung-cua-vo-chong-sau-khi-ket-hon-va-sau-khi-ly-hon-thi-tai-san-chu-92406-21320.html\n"
     ]
    },
    {
     "name": "stderr",
     "output_type": "stream",
     "text": [
      "c:\\Users\\My_Pc\\anaconda3\\envs\\Minh-AI\\Lib\\site-packages\\urllib3\\connectionpool.py:1099: InsecureRequestWarning: Unverified HTTPS request is being made to host 'thuvienphapluat.vn'. Adding certificate verification is strongly advised. See: https://urllib3.readthedocs.io/en/latest/advanced-usage.html#tls-warnings\n",
      "  warnings.warn(\n"
     ]
    },
    {
     "name": "stdout",
     "output_type": "stream",
     "text": [
      "Lỗi khi xử lý chunking: Expecting property name enclosed in double quotes: line 27 column 1 (char 510)\n",
      "Lỗi khi xử lý văn bản: 'NoneType' object is not iterable\n",
      "Rate limit or other exception: https://duckduckgo.com/ return None. params=None content=None data={'q': 'Cho tôi hỏi có thể mở công ty kế toán dưới hình thức doanh nghiệp tư nhân được không?\\n -site:https://vietnamtourism.gov.vn -site:https://thuvienphapluat.vn/van-ban -site:https://thuvienphapluat.vn/cong-dong-dan-luat -site:https://vi.wikipedia.org -site:https://careerviet.vn -site:https://lawkey.vn -site:https://chinhphu.vn/ -site:https://luatminhkhue.vn -site:https://dangkykinhdoanh.gov.vn -site:https://baomoi.com -site:https://gaadvisor.net/ -site:https://www.pace.edu.vn'}\n",
      "Rate limit or other exception: https://duckduckgo.com/ return None. params=None content=None data={'q': 'Cho tôi hỏi có thể mở công ty kế toán dưới hình thức doanh nghiệp tư nhân được không?\\n -site:https://vietnamtourism.gov.vn -site:https://thuvienphapluat.vn/van-ban -site:https://thuvienphapluat.vn/cong-dong-dan-luat -site:https://vi.wikipedia.org -site:https://careerviet.vn -site:https://lawkey.vn -site:https://chinhphu.vn/ -site:https://luatminhkhue.vn -site:https://dangkykinhdoanh.gov.vn -site:https://baomoi.com -site:https://gaadvisor.net/ -site:https://www.pace.edu.vn'}\n",
      "Rate limit or other exception: https://duckduckgo.com/ return None. params=None content=None data={'q': 'Cho tôi hỏi có thể mở công ty kế toán dưới hình thức doanh nghiệp tư nhân được không?\\n -site:https://vietnamtourism.gov.vn -site:https://thuvienphapluat.vn/van-ban -site:https://thuvienphapluat.vn/cong-dong-dan-luat -site:https://vi.wikipedia.org -site:https://careerviet.vn -site:https://lawkey.vn -site:https://chinhphu.vn/ -site:https://luatminhkhue.vn -site:https://dangkykinhdoanh.gov.vn -site:https://baomoi.com -site:https://gaadvisor.net/ -site:https://www.pace.edu.vn'}\n",
      "Rate limit or other exception: https://duckduckgo.com/ return None. params=None content=None data={'q': 'Cho tôi hỏi có thể mở công ty kế toán dưới hình thức doanh nghiệp tư nhân được không?\\n -site:https://vietnamtourism.gov.vn -site:https://thuvienphapluat.vn/van-ban -site:https://thuvienphapluat.vn/cong-dong-dan-luat -site:https://vi.wikipedia.org -site:https://careerviet.vn -site:https://lawkey.vn -site:https://chinhphu.vn/ -site:https://luatminhkhue.vn -site:https://dangkykinhdoanh.gov.vn -site:https://baomoi.com -site:https://gaadvisor.net/ -site:https://www.pace.edu.vn'}\n",
      "Rate limit or other exception: https://duckduckgo.com/ return None. params=None content=None data={'q': 'Cho tôi hỏi có thể mở công ty kế toán dưới hình thức doanh nghiệp tư nhân được không?\\n -site:https://vietnamtourism.gov.vn -site:https://thuvienphapluat.vn/van-ban -site:https://thuvienphapluat.vn/cong-dong-dan-luat -site:https://vi.wikipedia.org -site:https://careerviet.vn -site:https://lawkey.vn -site:https://chinhphu.vn/ -site:https://luatminhkhue.vn -site:https://dangkykinhdoanh.gov.vn -site:https://baomoi.com -site:https://gaadvisor.net/ -site:https://www.pace.edu.vn'}\n",
      "Rate limit or other exception: https://duckduckgo.com/ return None. params=None content=None data={'q': 'Cho tôi hỏi có thể mở công ty kế toán dưới hình thức doanh nghiệp tư nhân được không?\\n -site:https://vietnamtourism.gov.vn -site:https://thuvienphapluat.vn/van-ban -site:https://thuvienphapluat.vn/cong-dong-dan-luat -site:https://vi.wikipedia.org -site:https://careerviet.vn -site:https://lawkey.vn -site:https://chinhphu.vn/ -site:https://luatminhkhue.vn -site:https://dangkykinhdoanh.gov.vn -site:https://baomoi.com -site:https://gaadvisor.net/ -site:https://www.pace.edu.vn'}\n",
      "Rate limit or other exception: https://duckduckgo.com/ return None. params=None content=None data={'q': 'Cho tôi hỏi có thể mở công ty kế toán dưới hình thức doanh nghiệp tư nhân được không?\\n -site:https://vietnamtourism.gov.vn -site:https://thuvienphapluat.vn/van-ban -site:https://thuvienphapluat.vn/cong-dong-dan-luat -site:https://vi.wikipedia.org -site:https://careerviet.vn -site:https://lawkey.vn -site:https://chinhphu.vn/ -site:https://luatminhkhue.vn -site:https://dangkykinhdoanh.gov.vn -site:https://baomoi.com -site:https://gaadvisor.net/ -site:https://www.pace.edu.vn'}\n"
     ]
    },
    {
     "ename": "KeyboardInterrupt",
     "evalue": "",
     "output_type": "error",
     "traceback": [
      "\u001b[1;31m---------------------------------------------------------------------------\u001b[0m",
      "\u001b[1;31mDuckDuckGoSearchException\u001b[0m                 Traceback (most recent call last)",
      "Cell \u001b[1;32mIn[7], line 11\u001b[0m, in \u001b[0;36mgoogle_search\u001b[1;34m(input_text)\u001b[0m\n\u001b[0;32m     10\u001b[0m \u001b[38;5;28;01mtry\u001b[39;00m:\n\u001b[1;32m---> 11\u001b[0m     results \u001b[38;5;241m=\u001b[39m \u001b[43mDDGS\u001b[49m\u001b[43m(\u001b[49m\u001b[43m)\u001b[49m\u001b[38;5;241;43m.\u001b[39;49m\u001b[43mtext\u001b[49m\u001b[43m(\u001b[49m\n\u001b[0;32m     12\u001b[0m \u001b[43m        \u001b[49m\u001b[43mkeywords\u001b[49m\u001b[43m \u001b[49m\u001b[38;5;241;43m=\u001b[39;49m\u001b[43m \u001b[49m\u001b[43msearch_query\u001b[49m\u001b[43m,\u001b[49m\n\u001b[0;32m     13\u001b[0m \u001b[43m        \u001b[49m\u001b[43mregion\u001b[49m\u001b[43m \u001b[49m\u001b[38;5;241;43m=\u001b[39;49m\u001b[43m \u001b[49m\u001b[38;5;124;43m'\u001b[39;49m\u001b[38;5;124;43mvn-vi\u001b[39;49m\u001b[38;5;124;43m'\u001b[39;49m\u001b[43m,\u001b[49m\n\u001b[0;32m     14\u001b[0m \u001b[43m        \u001b[49m\u001b[43msafesearch\u001b[49m\u001b[38;5;241;43m=\u001b[39;49m\u001b[43m \u001b[49m\u001b[38;5;124;43m'\u001b[39;49m\u001b[38;5;124;43mmoderate\u001b[39;49m\u001b[38;5;124;43m'\u001b[39;49m\u001b[43m,\u001b[49m\n\u001b[0;32m     15\u001b[0m \u001b[43m        \u001b[49m\u001b[38;5;66;43;03m# timelimit= 'y',\u001b[39;49;00m\n\u001b[0;32m     16\u001b[0m \u001b[43m        \u001b[49m\u001b[43mmax_results\u001b[49m\u001b[38;5;241;43m=\u001b[39;49m\u001b[43m \u001b[49m\u001b[38;5;241;43m5\u001b[39;49m\n\u001b[0;32m     17\u001b[0m \u001b[43m    \u001b[49m\u001b[43m)\u001b[49m\n\u001b[0;32m     18\u001b[0m     \u001b[38;5;66;03m# # Biểu thức regex để loại bỏ các URL không mong muốn\u001b[39;00m\n\u001b[0;32m     19\u001b[0m     \u001b[38;5;66;03m# regex_pattern = r'-d([1-9]|10)\\.html'\u001b[39;00m\n\u001b[0;32m     20\u001b[0m     \u001b[38;5;66;03m# # Lọc kết quả bằng regex\u001b[39;00m\n\u001b[0;32m     21\u001b[0m     \u001b[38;5;66;03m# filtered_results = [result for result in results if not re.search(regex_pattern, result['href'])]\u001b[39;00m\n",
      "File \u001b[1;32mc:\\Users\\My_Pc\\anaconda3\\envs\\Minh-AI\\Lib\\site-packages\\duckduckgo_search\\duckduckgo_search.py:231\u001b[0m, in \u001b[0;36mDDGS.text\u001b[1;34m(self, keywords, region, safesearch, timelimit, backend, max_results)\u001b[0m\n\u001b[0;32m    230\u001b[0m \u001b[38;5;28;01mif\u001b[39;00m backend \u001b[38;5;241m==\u001b[39m \u001b[38;5;124m\"\u001b[39m\u001b[38;5;124mapi\u001b[39m\u001b[38;5;124m\"\u001b[39m:\n\u001b[1;32m--> 231\u001b[0m     results \u001b[38;5;241m=\u001b[39m \u001b[38;5;28;43mself\u001b[39;49m\u001b[38;5;241;43m.\u001b[39;49m\u001b[43m_text_api\u001b[49m\u001b[43m(\u001b[49m\u001b[43mkeywords\u001b[49m\u001b[43m,\u001b[49m\u001b[43m \u001b[49m\u001b[43mregion\u001b[49m\u001b[43m,\u001b[49m\u001b[43m \u001b[49m\u001b[43msafesearch\u001b[49m\u001b[43m,\u001b[49m\u001b[43m \u001b[49m\u001b[43mtimelimit\u001b[49m\u001b[43m,\u001b[49m\u001b[43m \u001b[49m\u001b[43mmax_results\u001b[49m\u001b[43m)\u001b[49m\n\u001b[0;32m    232\u001b[0m \u001b[38;5;28;01melif\u001b[39;00m backend \u001b[38;5;241m==\u001b[39m \u001b[38;5;124m\"\u001b[39m\u001b[38;5;124mhtml\u001b[39m\u001b[38;5;124m\"\u001b[39m:\n",
      "File \u001b[1;32mc:\\Users\\My_Pc\\anaconda3\\envs\\Minh-AI\\Lib\\site-packages\\duckduckgo_search\\duckduckgo_search.py:265\u001b[0m, in \u001b[0;36mDDGS._text_api\u001b[1;34m(self, keywords, region, safesearch, timelimit, max_results)\u001b[0m\n\u001b[0;32m    263\u001b[0m \u001b[38;5;28;01massert\u001b[39;00m keywords, \u001b[38;5;124m\"\u001b[39m\u001b[38;5;124mkeywords is mandatory\u001b[39m\u001b[38;5;124m\"\u001b[39m\n\u001b[1;32m--> 265\u001b[0m vqd \u001b[38;5;241m=\u001b[39m \u001b[38;5;28;43mself\u001b[39;49m\u001b[38;5;241;43m.\u001b[39;49m\u001b[43m_get_vqd\u001b[49m\u001b[43m(\u001b[49m\u001b[43mkeywords\u001b[49m\u001b[43m)\u001b[49m\n\u001b[0;32m    267\u001b[0m payload \u001b[38;5;241m=\u001b[39m {\n\u001b[0;32m    268\u001b[0m     \u001b[38;5;124m\"\u001b[39m\u001b[38;5;124mq\u001b[39m\u001b[38;5;124m\"\u001b[39m: keywords,\n\u001b[0;32m    269\u001b[0m     \u001b[38;5;124m\"\u001b[39m\u001b[38;5;124mkl\u001b[39m\u001b[38;5;124m\"\u001b[39m: region,\n\u001b[1;32m   (...)\u001b[0m\n\u001b[0;32m    276\u001b[0m     \u001b[38;5;124m\"\u001b[39m\u001b[38;5;124mex\u001b[39m\u001b[38;5;124m\"\u001b[39m: \u001b[38;5;124m\"\u001b[39m\u001b[38;5;124m\"\u001b[39m,\n\u001b[0;32m    277\u001b[0m }\n",
      "File \u001b[1;32mc:\\Users\\My_Pc\\anaconda3\\envs\\Minh-AI\\Lib\\site-packages\\duckduckgo_search\\duckduckgo_search.py:133\u001b[0m, in \u001b[0;36mDDGS._get_vqd\u001b[1;34m(self, keywords)\u001b[0m\n\u001b[0;32m    132\u001b[0m \u001b[38;5;250m\u001b[39m\u001b[38;5;124;03m\"\"\"Get vqd value for a search query.\"\"\"\u001b[39;00m\n\u001b[1;32m--> 133\u001b[0m resp_content \u001b[38;5;241m=\u001b[39m \u001b[38;5;28;43mself\u001b[39;49m\u001b[38;5;241;43m.\u001b[39;49m\u001b[43m_get_url\u001b[49m\u001b[43m(\u001b[49m\u001b[38;5;124;43m\"\u001b[39;49m\u001b[38;5;124;43mPOST\u001b[39;49m\u001b[38;5;124;43m\"\u001b[39;49m\u001b[43m,\u001b[49m\u001b[43m \u001b[49m\u001b[38;5;124;43m\"\u001b[39;49m\u001b[38;5;124;43mhttps://duckduckgo.com\u001b[39;49m\u001b[38;5;124;43m\"\u001b[39;49m\u001b[43m,\u001b[49m\u001b[43m \u001b[49m\u001b[43mdata\u001b[49m\u001b[38;5;241;43m=\u001b[39;49m\u001b[43m{\u001b[49m\u001b[38;5;124;43m\"\u001b[39;49m\u001b[38;5;124;43mq\u001b[39;49m\u001b[38;5;124;43m\"\u001b[39;49m\u001b[43m:\u001b[49m\u001b[43m \u001b[49m\u001b[43mkeywords\u001b[49m\u001b[43m}\u001b[49m\u001b[43m)\u001b[49m\n\u001b[0;32m    134\u001b[0m \u001b[38;5;28;01mreturn\u001b[39;00m _extract_vqd(resp_content, keywords)\n",
      "File \u001b[1;32mc:\\Users\\My_Pc\\anaconda3\\envs\\Minh-AI\\Lib\\site-packages\\duckduckgo_search\\duckduckgo_search.py:129\u001b[0m, in \u001b[0;36mDDGS._get_url\u001b[1;34m(self, method, url, params, content, data)\u001b[0m\n\u001b[0;32m    128\u001b[0m     \u001b[38;5;28;01mraise\u001b[39;00m RatelimitException(\u001b[38;5;124mf\u001b[39m\u001b[38;5;124m\"\u001b[39m\u001b[38;5;132;01m{\u001b[39;00mresp\u001b[38;5;241m.\u001b[39murl\u001b[38;5;132;01m}\u001b[39;00m\u001b[38;5;124m \u001b[39m\u001b[38;5;132;01m{\u001b[39;00mresp\u001b[38;5;241m.\u001b[39mstatus_code\u001b[38;5;132;01m}\u001b[39;00m\u001b[38;5;124m Ratelimit\u001b[39m\u001b[38;5;124m\"\u001b[39m)\n\u001b[1;32m--> 129\u001b[0m \u001b[38;5;28;01mraise\u001b[39;00m DuckDuckGoSearchException(\u001b[38;5;124mf\u001b[39m\u001b[38;5;124m\"\u001b[39m\u001b[38;5;132;01m{\u001b[39;00mresp\u001b[38;5;241m.\u001b[39murl\u001b[38;5;132;01m}\u001b[39;00m\u001b[38;5;124m return None. \u001b[39m\u001b[38;5;132;01m{\u001b[39;00mparams\u001b[38;5;132;01m=}\u001b[39;00m\u001b[38;5;124m \u001b[39m\u001b[38;5;132;01m{\u001b[39;00mcontent\u001b[38;5;132;01m=}\u001b[39;00m\u001b[38;5;124m \u001b[39m\u001b[38;5;132;01m{\u001b[39;00mdata\u001b[38;5;132;01m=}\u001b[39;00m\u001b[38;5;124m\"\u001b[39m)\n",
      "\u001b[1;31mDuckDuckGoSearchException\u001b[0m: https://duckduckgo.com/ return None. params=None content=None data={'q': 'Cho tôi hỏi có thể mở công ty kế toán dưới hình thức doanh nghiệp tư nhân được không?\\n -site:https://vietnamtourism.gov.vn -site:https://thuvienphapluat.vn/van-ban -site:https://thuvienphapluat.vn/cong-dong-dan-luat -site:https://vi.wikipedia.org -site:https://careerviet.vn -site:https://lawkey.vn -site:https://chinhphu.vn/ -site:https://luatminhkhue.vn -site:https://dangkykinhdoanh.gov.vn -site:https://baomoi.com -site:https://gaadvisor.net/ -site:https://www.pace.edu.vn'}",
      "\nDuring handling of the above exception, another exception occurred:\n",
      "\u001b[1;31mDuckDuckGoSearchException\u001b[0m                 Traceback (most recent call last)",
      "Cell \u001b[1;32mIn[7], line 11\u001b[0m, in \u001b[0;36mgoogle_search\u001b[1;34m(input_text)\u001b[0m\n\u001b[0;32m     10\u001b[0m \u001b[38;5;28;01mtry\u001b[39;00m:\n\u001b[1;32m---> 11\u001b[0m     results \u001b[38;5;241m=\u001b[39m \u001b[43mDDGS\u001b[49m\u001b[43m(\u001b[49m\u001b[43m)\u001b[49m\u001b[38;5;241;43m.\u001b[39;49m\u001b[43mtext\u001b[49m\u001b[43m(\u001b[49m\n\u001b[0;32m     12\u001b[0m \u001b[43m        \u001b[49m\u001b[43mkeywords\u001b[49m\u001b[43m \u001b[49m\u001b[38;5;241;43m=\u001b[39;49m\u001b[43m \u001b[49m\u001b[43msearch_query\u001b[49m\u001b[43m,\u001b[49m\n\u001b[0;32m     13\u001b[0m \u001b[43m        \u001b[49m\u001b[43mregion\u001b[49m\u001b[43m \u001b[49m\u001b[38;5;241;43m=\u001b[39;49m\u001b[43m \u001b[49m\u001b[38;5;124;43m'\u001b[39;49m\u001b[38;5;124;43mvn-vi\u001b[39;49m\u001b[38;5;124;43m'\u001b[39;49m\u001b[43m,\u001b[49m\n\u001b[0;32m     14\u001b[0m \u001b[43m        \u001b[49m\u001b[43msafesearch\u001b[49m\u001b[38;5;241;43m=\u001b[39;49m\u001b[43m \u001b[49m\u001b[38;5;124;43m'\u001b[39;49m\u001b[38;5;124;43mmoderate\u001b[39;49m\u001b[38;5;124;43m'\u001b[39;49m\u001b[43m,\u001b[49m\n\u001b[0;32m     15\u001b[0m \u001b[43m        \u001b[49m\u001b[38;5;66;43;03m# timelimit= 'y',\u001b[39;49;00m\n\u001b[0;32m     16\u001b[0m \u001b[43m        \u001b[49m\u001b[43mmax_results\u001b[49m\u001b[38;5;241;43m=\u001b[39;49m\u001b[43m \u001b[49m\u001b[38;5;241;43m5\u001b[39;49m\n\u001b[0;32m     17\u001b[0m \u001b[43m    \u001b[49m\u001b[43m)\u001b[49m\n\u001b[0;32m     18\u001b[0m     \u001b[38;5;66;03m# # Biểu thức regex để loại bỏ các URL không mong muốn\u001b[39;00m\n\u001b[0;32m     19\u001b[0m     \u001b[38;5;66;03m# regex_pattern = r'-d([1-9]|10)\\.html'\u001b[39;00m\n\u001b[0;32m     20\u001b[0m     \u001b[38;5;66;03m# # Lọc kết quả bằng regex\u001b[39;00m\n\u001b[0;32m     21\u001b[0m     \u001b[38;5;66;03m# filtered_results = [result for result in results if not re.search(regex_pattern, result['href'])]\u001b[39;00m\n",
      "File \u001b[1;32mc:\\Users\\My_Pc\\anaconda3\\envs\\Minh-AI\\Lib\\site-packages\\duckduckgo_search\\duckduckgo_search.py:231\u001b[0m, in \u001b[0;36mDDGS.text\u001b[1;34m(self, keywords, region, safesearch, timelimit, backend, max_results)\u001b[0m\n\u001b[0;32m    230\u001b[0m \u001b[38;5;28;01mif\u001b[39;00m backend \u001b[38;5;241m==\u001b[39m \u001b[38;5;124m\"\u001b[39m\u001b[38;5;124mapi\u001b[39m\u001b[38;5;124m\"\u001b[39m:\n\u001b[1;32m--> 231\u001b[0m     results \u001b[38;5;241m=\u001b[39m \u001b[38;5;28;43mself\u001b[39;49m\u001b[38;5;241;43m.\u001b[39;49m\u001b[43m_text_api\u001b[49m\u001b[43m(\u001b[49m\u001b[43mkeywords\u001b[49m\u001b[43m,\u001b[49m\u001b[43m \u001b[49m\u001b[43mregion\u001b[49m\u001b[43m,\u001b[49m\u001b[43m \u001b[49m\u001b[43msafesearch\u001b[49m\u001b[43m,\u001b[49m\u001b[43m \u001b[49m\u001b[43mtimelimit\u001b[49m\u001b[43m,\u001b[49m\u001b[43m \u001b[49m\u001b[43mmax_results\u001b[49m\u001b[43m)\u001b[49m\n\u001b[0;32m    232\u001b[0m \u001b[38;5;28;01melif\u001b[39;00m backend \u001b[38;5;241m==\u001b[39m \u001b[38;5;124m\"\u001b[39m\u001b[38;5;124mhtml\u001b[39m\u001b[38;5;124m\"\u001b[39m:\n",
      "File \u001b[1;32mc:\\Users\\My_Pc\\anaconda3\\envs\\Minh-AI\\Lib\\site-packages\\duckduckgo_search\\duckduckgo_search.py:265\u001b[0m, in \u001b[0;36mDDGS._text_api\u001b[1;34m(self, keywords, region, safesearch, timelimit, max_results)\u001b[0m\n\u001b[0;32m    263\u001b[0m \u001b[38;5;28;01massert\u001b[39;00m keywords, \u001b[38;5;124m\"\u001b[39m\u001b[38;5;124mkeywords is mandatory\u001b[39m\u001b[38;5;124m\"\u001b[39m\n\u001b[1;32m--> 265\u001b[0m vqd \u001b[38;5;241m=\u001b[39m \u001b[38;5;28;43mself\u001b[39;49m\u001b[38;5;241;43m.\u001b[39;49m\u001b[43m_get_vqd\u001b[49m\u001b[43m(\u001b[49m\u001b[43mkeywords\u001b[49m\u001b[43m)\u001b[49m\n\u001b[0;32m    267\u001b[0m payload \u001b[38;5;241m=\u001b[39m {\n\u001b[0;32m    268\u001b[0m     \u001b[38;5;124m\"\u001b[39m\u001b[38;5;124mq\u001b[39m\u001b[38;5;124m\"\u001b[39m: keywords,\n\u001b[0;32m    269\u001b[0m     \u001b[38;5;124m\"\u001b[39m\u001b[38;5;124mkl\u001b[39m\u001b[38;5;124m\"\u001b[39m: region,\n\u001b[1;32m   (...)\u001b[0m\n\u001b[0;32m    276\u001b[0m     \u001b[38;5;124m\"\u001b[39m\u001b[38;5;124mex\u001b[39m\u001b[38;5;124m\"\u001b[39m: \u001b[38;5;124m\"\u001b[39m\u001b[38;5;124m\"\u001b[39m,\n\u001b[0;32m    277\u001b[0m }\n",
      "File \u001b[1;32mc:\\Users\\My_Pc\\anaconda3\\envs\\Minh-AI\\Lib\\site-packages\\duckduckgo_search\\duckduckgo_search.py:133\u001b[0m, in \u001b[0;36mDDGS._get_vqd\u001b[1;34m(self, keywords)\u001b[0m\n\u001b[0;32m    132\u001b[0m \u001b[38;5;250m\u001b[39m\u001b[38;5;124;03m\"\"\"Get vqd value for a search query.\"\"\"\u001b[39;00m\n\u001b[1;32m--> 133\u001b[0m resp_content \u001b[38;5;241m=\u001b[39m \u001b[38;5;28;43mself\u001b[39;49m\u001b[38;5;241;43m.\u001b[39;49m\u001b[43m_get_url\u001b[49m\u001b[43m(\u001b[49m\u001b[38;5;124;43m\"\u001b[39;49m\u001b[38;5;124;43mPOST\u001b[39;49m\u001b[38;5;124;43m\"\u001b[39;49m\u001b[43m,\u001b[49m\u001b[43m \u001b[49m\u001b[38;5;124;43m\"\u001b[39;49m\u001b[38;5;124;43mhttps://duckduckgo.com\u001b[39;49m\u001b[38;5;124;43m\"\u001b[39;49m\u001b[43m,\u001b[49m\u001b[43m \u001b[49m\u001b[43mdata\u001b[49m\u001b[38;5;241;43m=\u001b[39;49m\u001b[43m{\u001b[49m\u001b[38;5;124;43m\"\u001b[39;49m\u001b[38;5;124;43mq\u001b[39;49m\u001b[38;5;124;43m\"\u001b[39;49m\u001b[43m:\u001b[49m\u001b[43m \u001b[49m\u001b[43mkeywords\u001b[49m\u001b[43m}\u001b[49m\u001b[43m)\u001b[49m\n\u001b[0;32m    134\u001b[0m \u001b[38;5;28;01mreturn\u001b[39;00m _extract_vqd(resp_content, keywords)\n",
      "File \u001b[1;32mc:\\Users\\My_Pc\\anaconda3\\envs\\Minh-AI\\Lib\\site-packages\\duckduckgo_search\\duckduckgo_search.py:129\u001b[0m, in \u001b[0;36mDDGS._get_url\u001b[1;34m(self, method, url, params, content, data)\u001b[0m\n\u001b[0;32m    128\u001b[0m     \u001b[38;5;28;01mraise\u001b[39;00m RatelimitException(\u001b[38;5;124mf\u001b[39m\u001b[38;5;124m\"\u001b[39m\u001b[38;5;132;01m{\u001b[39;00mresp\u001b[38;5;241m.\u001b[39murl\u001b[38;5;132;01m}\u001b[39;00m\u001b[38;5;124m \u001b[39m\u001b[38;5;132;01m{\u001b[39;00mresp\u001b[38;5;241m.\u001b[39mstatus_code\u001b[38;5;132;01m}\u001b[39;00m\u001b[38;5;124m Ratelimit\u001b[39m\u001b[38;5;124m\"\u001b[39m)\n\u001b[1;32m--> 129\u001b[0m \u001b[38;5;28;01mraise\u001b[39;00m DuckDuckGoSearchException(\u001b[38;5;124mf\u001b[39m\u001b[38;5;124m\"\u001b[39m\u001b[38;5;132;01m{\u001b[39;00mresp\u001b[38;5;241m.\u001b[39murl\u001b[38;5;132;01m}\u001b[39;00m\u001b[38;5;124m return None. \u001b[39m\u001b[38;5;132;01m{\u001b[39;00mparams\u001b[38;5;132;01m=}\u001b[39;00m\u001b[38;5;124m \u001b[39m\u001b[38;5;132;01m{\u001b[39;00mcontent\u001b[38;5;132;01m=}\u001b[39;00m\u001b[38;5;124m \u001b[39m\u001b[38;5;132;01m{\u001b[39;00mdata\u001b[38;5;132;01m=}\u001b[39;00m\u001b[38;5;124m\"\u001b[39m)\n",
      "\u001b[1;31mDuckDuckGoSearchException\u001b[0m: https://duckduckgo.com/ return None. params=None content=None data={'q': 'Cho tôi hỏi có thể mở công ty kế toán dưới hình thức doanh nghiệp tư nhân được không?\\n -site:https://vietnamtourism.gov.vn -site:https://thuvienphapluat.vn/van-ban -site:https://thuvienphapluat.vn/cong-dong-dan-luat -site:https://vi.wikipedia.org -site:https://careerviet.vn -site:https://lawkey.vn -site:https://chinhphu.vn/ -site:https://luatminhkhue.vn -site:https://dangkykinhdoanh.gov.vn -site:https://baomoi.com -site:https://gaadvisor.net/ -site:https://www.pace.edu.vn'}",
      "\nDuring handling of the above exception, another exception occurred:\n",
      "\u001b[1;31mDuckDuckGoSearchException\u001b[0m                 Traceback (most recent call last)",
      "Cell \u001b[1;32mIn[7], line 11\u001b[0m, in \u001b[0;36mgoogle_search\u001b[1;34m(input_text)\u001b[0m\n\u001b[0;32m     10\u001b[0m \u001b[38;5;28;01mtry\u001b[39;00m:\n\u001b[1;32m---> 11\u001b[0m     results \u001b[38;5;241m=\u001b[39m \u001b[43mDDGS\u001b[49m\u001b[43m(\u001b[49m\u001b[43m)\u001b[49m\u001b[38;5;241;43m.\u001b[39;49m\u001b[43mtext\u001b[49m\u001b[43m(\u001b[49m\n\u001b[0;32m     12\u001b[0m \u001b[43m        \u001b[49m\u001b[43mkeywords\u001b[49m\u001b[43m \u001b[49m\u001b[38;5;241;43m=\u001b[39;49m\u001b[43m \u001b[49m\u001b[43msearch_query\u001b[49m\u001b[43m,\u001b[49m\n\u001b[0;32m     13\u001b[0m \u001b[43m        \u001b[49m\u001b[43mregion\u001b[49m\u001b[43m \u001b[49m\u001b[38;5;241;43m=\u001b[39;49m\u001b[43m \u001b[49m\u001b[38;5;124;43m'\u001b[39;49m\u001b[38;5;124;43mvn-vi\u001b[39;49m\u001b[38;5;124;43m'\u001b[39;49m\u001b[43m,\u001b[49m\n\u001b[0;32m     14\u001b[0m \u001b[43m        \u001b[49m\u001b[43msafesearch\u001b[49m\u001b[38;5;241;43m=\u001b[39;49m\u001b[43m \u001b[49m\u001b[38;5;124;43m'\u001b[39;49m\u001b[38;5;124;43mmoderate\u001b[39;49m\u001b[38;5;124;43m'\u001b[39;49m\u001b[43m,\u001b[49m\n\u001b[0;32m     15\u001b[0m \u001b[43m        \u001b[49m\u001b[38;5;66;43;03m# timelimit= 'y',\u001b[39;49;00m\n\u001b[0;32m     16\u001b[0m \u001b[43m        \u001b[49m\u001b[43mmax_results\u001b[49m\u001b[38;5;241;43m=\u001b[39;49m\u001b[43m \u001b[49m\u001b[38;5;241;43m5\u001b[39;49m\n\u001b[0;32m     17\u001b[0m \u001b[43m    \u001b[49m\u001b[43m)\u001b[49m\n\u001b[0;32m     18\u001b[0m     \u001b[38;5;66;03m# # Biểu thức regex để loại bỏ các URL không mong muốn\u001b[39;00m\n\u001b[0;32m     19\u001b[0m     \u001b[38;5;66;03m# regex_pattern = r'-d([1-9]|10)\\.html'\u001b[39;00m\n\u001b[0;32m     20\u001b[0m     \u001b[38;5;66;03m# # Lọc kết quả bằng regex\u001b[39;00m\n\u001b[0;32m     21\u001b[0m     \u001b[38;5;66;03m# filtered_results = [result for result in results if not re.search(regex_pattern, result['href'])]\u001b[39;00m\n",
      "File \u001b[1;32mc:\\Users\\My_Pc\\anaconda3\\envs\\Minh-AI\\Lib\\site-packages\\duckduckgo_search\\duckduckgo_search.py:231\u001b[0m, in \u001b[0;36mDDGS.text\u001b[1;34m(self, keywords, region, safesearch, timelimit, backend, max_results)\u001b[0m\n\u001b[0;32m    230\u001b[0m \u001b[38;5;28;01mif\u001b[39;00m backend \u001b[38;5;241m==\u001b[39m \u001b[38;5;124m\"\u001b[39m\u001b[38;5;124mapi\u001b[39m\u001b[38;5;124m\"\u001b[39m:\n\u001b[1;32m--> 231\u001b[0m     results \u001b[38;5;241m=\u001b[39m \u001b[38;5;28;43mself\u001b[39;49m\u001b[38;5;241;43m.\u001b[39;49m\u001b[43m_text_api\u001b[49m\u001b[43m(\u001b[49m\u001b[43mkeywords\u001b[49m\u001b[43m,\u001b[49m\u001b[43m \u001b[49m\u001b[43mregion\u001b[49m\u001b[43m,\u001b[49m\u001b[43m \u001b[49m\u001b[43msafesearch\u001b[49m\u001b[43m,\u001b[49m\u001b[43m \u001b[49m\u001b[43mtimelimit\u001b[49m\u001b[43m,\u001b[49m\u001b[43m \u001b[49m\u001b[43mmax_results\u001b[49m\u001b[43m)\u001b[49m\n\u001b[0;32m    232\u001b[0m \u001b[38;5;28;01melif\u001b[39;00m backend \u001b[38;5;241m==\u001b[39m \u001b[38;5;124m\"\u001b[39m\u001b[38;5;124mhtml\u001b[39m\u001b[38;5;124m\"\u001b[39m:\n",
      "File \u001b[1;32mc:\\Users\\My_Pc\\anaconda3\\envs\\Minh-AI\\Lib\\site-packages\\duckduckgo_search\\duckduckgo_search.py:265\u001b[0m, in \u001b[0;36mDDGS._text_api\u001b[1;34m(self, keywords, region, safesearch, timelimit, max_results)\u001b[0m\n\u001b[0;32m    263\u001b[0m \u001b[38;5;28;01massert\u001b[39;00m keywords, \u001b[38;5;124m\"\u001b[39m\u001b[38;5;124mkeywords is mandatory\u001b[39m\u001b[38;5;124m\"\u001b[39m\n\u001b[1;32m--> 265\u001b[0m vqd \u001b[38;5;241m=\u001b[39m \u001b[38;5;28;43mself\u001b[39;49m\u001b[38;5;241;43m.\u001b[39;49m\u001b[43m_get_vqd\u001b[49m\u001b[43m(\u001b[49m\u001b[43mkeywords\u001b[49m\u001b[43m)\u001b[49m\n\u001b[0;32m    267\u001b[0m payload \u001b[38;5;241m=\u001b[39m {\n\u001b[0;32m    268\u001b[0m     \u001b[38;5;124m\"\u001b[39m\u001b[38;5;124mq\u001b[39m\u001b[38;5;124m\"\u001b[39m: keywords,\n\u001b[0;32m    269\u001b[0m     \u001b[38;5;124m\"\u001b[39m\u001b[38;5;124mkl\u001b[39m\u001b[38;5;124m\"\u001b[39m: region,\n\u001b[1;32m   (...)\u001b[0m\n\u001b[0;32m    276\u001b[0m     \u001b[38;5;124m\"\u001b[39m\u001b[38;5;124mex\u001b[39m\u001b[38;5;124m\"\u001b[39m: \u001b[38;5;124m\"\u001b[39m\u001b[38;5;124m\"\u001b[39m,\n\u001b[0;32m    277\u001b[0m }\n",
      "File \u001b[1;32mc:\\Users\\My_Pc\\anaconda3\\envs\\Minh-AI\\Lib\\site-packages\\duckduckgo_search\\duckduckgo_search.py:133\u001b[0m, in \u001b[0;36mDDGS._get_vqd\u001b[1;34m(self, keywords)\u001b[0m\n\u001b[0;32m    132\u001b[0m \u001b[38;5;250m\u001b[39m\u001b[38;5;124;03m\"\"\"Get vqd value for a search query.\"\"\"\u001b[39;00m\n\u001b[1;32m--> 133\u001b[0m resp_content \u001b[38;5;241m=\u001b[39m \u001b[38;5;28;43mself\u001b[39;49m\u001b[38;5;241;43m.\u001b[39;49m\u001b[43m_get_url\u001b[49m\u001b[43m(\u001b[49m\u001b[38;5;124;43m\"\u001b[39;49m\u001b[38;5;124;43mPOST\u001b[39;49m\u001b[38;5;124;43m\"\u001b[39;49m\u001b[43m,\u001b[49m\u001b[43m \u001b[49m\u001b[38;5;124;43m\"\u001b[39;49m\u001b[38;5;124;43mhttps://duckduckgo.com\u001b[39;49m\u001b[38;5;124;43m\"\u001b[39;49m\u001b[43m,\u001b[49m\u001b[43m \u001b[49m\u001b[43mdata\u001b[49m\u001b[38;5;241;43m=\u001b[39;49m\u001b[43m{\u001b[49m\u001b[38;5;124;43m\"\u001b[39;49m\u001b[38;5;124;43mq\u001b[39;49m\u001b[38;5;124;43m\"\u001b[39;49m\u001b[43m:\u001b[49m\u001b[43m \u001b[49m\u001b[43mkeywords\u001b[49m\u001b[43m}\u001b[49m\u001b[43m)\u001b[49m\n\u001b[0;32m    134\u001b[0m \u001b[38;5;28;01mreturn\u001b[39;00m _extract_vqd(resp_content, keywords)\n",
      "File \u001b[1;32mc:\\Users\\My_Pc\\anaconda3\\envs\\Minh-AI\\Lib\\site-packages\\duckduckgo_search\\duckduckgo_search.py:129\u001b[0m, in \u001b[0;36mDDGS._get_url\u001b[1;34m(self, method, url, params, content, data)\u001b[0m\n\u001b[0;32m    128\u001b[0m     \u001b[38;5;28;01mraise\u001b[39;00m RatelimitException(\u001b[38;5;124mf\u001b[39m\u001b[38;5;124m\"\u001b[39m\u001b[38;5;132;01m{\u001b[39;00mresp\u001b[38;5;241m.\u001b[39murl\u001b[38;5;132;01m}\u001b[39;00m\u001b[38;5;124m \u001b[39m\u001b[38;5;132;01m{\u001b[39;00mresp\u001b[38;5;241m.\u001b[39mstatus_code\u001b[38;5;132;01m}\u001b[39;00m\u001b[38;5;124m Ratelimit\u001b[39m\u001b[38;5;124m\"\u001b[39m)\n\u001b[1;32m--> 129\u001b[0m \u001b[38;5;28;01mraise\u001b[39;00m DuckDuckGoSearchException(\u001b[38;5;124mf\u001b[39m\u001b[38;5;124m\"\u001b[39m\u001b[38;5;132;01m{\u001b[39;00mresp\u001b[38;5;241m.\u001b[39murl\u001b[38;5;132;01m}\u001b[39;00m\u001b[38;5;124m return None. \u001b[39m\u001b[38;5;132;01m{\u001b[39;00mparams\u001b[38;5;132;01m=}\u001b[39;00m\u001b[38;5;124m \u001b[39m\u001b[38;5;132;01m{\u001b[39;00mcontent\u001b[38;5;132;01m=}\u001b[39;00m\u001b[38;5;124m \u001b[39m\u001b[38;5;132;01m{\u001b[39;00mdata\u001b[38;5;132;01m=}\u001b[39;00m\u001b[38;5;124m\"\u001b[39m)\n",
      "\u001b[1;31mDuckDuckGoSearchException\u001b[0m: https://duckduckgo.com/ return None. params=None content=None data={'q': 'Cho tôi hỏi có thể mở công ty kế toán dưới hình thức doanh nghiệp tư nhân được không?\\n -site:https://vietnamtourism.gov.vn -site:https://thuvienphapluat.vn/van-ban -site:https://thuvienphapluat.vn/cong-dong-dan-luat -site:https://vi.wikipedia.org -site:https://careerviet.vn -site:https://lawkey.vn -site:https://chinhphu.vn/ -site:https://luatminhkhue.vn -site:https://dangkykinhdoanh.gov.vn -site:https://baomoi.com -site:https://gaadvisor.net/ -site:https://www.pace.edu.vn'}",
      "\nDuring handling of the above exception, another exception occurred:\n",
      "\u001b[1;31mDuckDuckGoSearchException\u001b[0m                 Traceback (most recent call last)",
      "Cell \u001b[1;32mIn[7], line 11\u001b[0m, in \u001b[0;36mgoogle_search\u001b[1;34m(input_text)\u001b[0m\n\u001b[0;32m     10\u001b[0m \u001b[38;5;28;01mtry\u001b[39;00m:\n\u001b[1;32m---> 11\u001b[0m     results \u001b[38;5;241m=\u001b[39m \u001b[43mDDGS\u001b[49m\u001b[43m(\u001b[49m\u001b[43m)\u001b[49m\u001b[38;5;241;43m.\u001b[39;49m\u001b[43mtext\u001b[49m\u001b[43m(\u001b[49m\n\u001b[0;32m     12\u001b[0m \u001b[43m        \u001b[49m\u001b[43mkeywords\u001b[49m\u001b[43m \u001b[49m\u001b[38;5;241;43m=\u001b[39;49m\u001b[43m \u001b[49m\u001b[43msearch_query\u001b[49m\u001b[43m,\u001b[49m\n\u001b[0;32m     13\u001b[0m \u001b[43m        \u001b[49m\u001b[43mregion\u001b[49m\u001b[43m \u001b[49m\u001b[38;5;241;43m=\u001b[39;49m\u001b[43m \u001b[49m\u001b[38;5;124;43m'\u001b[39;49m\u001b[38;5;124;43mvn-vi\u001b[39;49m\u001b[38;5;124;43m'\u001b[39;49m\u001b[43m,\u001b[49m\n\u001b[0;32m     14\u001b[0m \u001b[43m        \u001b[49m\u001b[43msafesearch\u001b[49m\u001b[38;5;241;43m=\u001b[39;49m\u001b[43m \u001b[49m\u001b[38;5;124;43m'\u001b[39;49m\u001b[38;5;124;43mmoderate\u001b[39;49m\u001b[38;5;124;43m'\u001b[39;49m\u001b[43m,\u001b[49m\n\u001b[0;32m     15\u001b[0m \u001b[43m        \u001b[49m\u001b[38;5;66;43;03m# timelimit= 'y',\u001b[39;49;00m\n\u001b[0;32m     16\u001b[0m \u001b[43m        \u001b[49m\u001b[43mmax_results\u001b[49m\u001b[38;5;241;43m=\u001b[39;49m\u001b[43m \u001b[49m\u001b[38;5;241;43m5\u001b[39;49m\n\u001b[0;32m     17\u001b[0m \u001b[43m    \u001b[49m\u001b[43m)\u001b[49m\n\u001b[0;32m     18\u001b[0m     \u001b[38;5;66;03m# # Biểu thức regex để loại bỏ các URL không mong muốn\u001b[39;00m\n\u001b[0;32m     19\u001b[0m     \u001b[38;5;66;03m# regex_pattern = r'-d([1-9]|10)\\.html'\u001b[39;00m\n\u001b[0;32m     20\u001b[0m     \u001b[38;5;66;03m# # Lọc kết quả bằng regex\u001b[39;00m\n\u001b[0;32m     21\u001b[0m     \u001b[38;5;66;03m# filtered_results = [result for result in results if not re.search(regex_pattern, result['href'])]\u001b[39;00m\n",
      "File \u001b[1;32mc:\\Users\\My_Pc\\anaconda3\\envs\\Minh-AI\\Lib\\site-packages\\duckduckgo_search\\duckduckgo_search.py:231\u001b[0m, in \u001b[0;36mDDGS.text\u001b[1;34m(self, keywords, region, safesearch, timelimit, backend, max_results)\u001b[0m\n\u001b[0;32m    230\u001b[0m \u001b[38;5;28;01mif\u001b[39;00m backend \u001b[38;5;241m==\u001b[39m \u001b[38;5;124m\"\u001b[39m\u001b[38;5;124mapi\u001b[39m\u001b[38;5;124m\"\u001b[39m:\n\u001b[1;32m--> 231\u001b[0m     results \u001b[38;5;241m=\u001b[39m \u001b[38;5;28;43mself\u001b[39;49m\u001b[38;5;241;43m.\u001b[39;49m\u001b[43m_text_api\u001b[49m\u001b[43m(\u001b[49m\u001b[43mkeywords\u001b[49m\u001b[43m,\u001b[49m\u001b[43m \u001b[49m\u001b[43mregion\u001b[49m\u001b[43m,\u001b[49m\u001b[43m \u001b[49m\u001b[43msafesearch\u001b[49m\u001b[43m,\u001b[49m\u001b[43m \u001b[49m\u001b[43mtimelimit\u001b[49m\u001b[43m,\u001b[49m\u001b[43m \u001b[49m\u001b[43mmax_results\u001b[49m\u001b[43m)\u001b[49m\n\u001b[0;32m    232\u001b[0m \u001b[38;5;28;01melif\u001b[39;00m backend \u001b[38;5;241m==\u001b[39m \u001b[38;5;124m\"\u001b[39m\u001b[38;5;124mhtml\u001b[39m\u001b[38;5;124m\"\u001b[39m:\n",
      "File \u001b[1;32mc:\\Users\\My_Pc\\anaconda3\\envs\\Minh-AI\\Lib\\site-packages\\duckduckgo_search\\duckduckgo_search.py:265\u001b[0m, in \u001b[0;36mDDGS._text_api\u001b[1;34m(self, keywords, region, safesearch, timelimit, max_results)\u001b[0m\n\u001b[0;32m    263\u001b[0m \u001b[38;5;28;01massert\u001b[39;00m keywords, \u001b[38;5;124m\"\u001b[39m\u001b[38;5;124mkeywords is mandatory\u001b[39m\u001b[38;5;124m\"\u001b[39m\n\u001b[1;32m--> 265\u001b[0m vqd \u001b[38;5;241m=\u001b[39m \u001b[38;5;28;43mself\u001b[39;49m\u001b[38;5;241;43m.\u001b[39;49m\u001b[43m_get_vqd\u001b[49m\u001b[43m(\u001b[49m\u001b[43mkeywords\u001b[49m\u001b[43m)\u001b[49m\n\u001b[0;32m    267\u001b[0m payload \u001b[38;5;241m=\u001b[39m {\n\u001b[0;32m    268\u001b[0m     \u001b[38;5;124m\"\u001b[39m\u001b[38;5;124mq\u001b[39m\u001b[38;5;124m\"\u001b[39m: keywords,\n\u001b[0;32m    269\u001b[0m     \u001b[38;5;124m\"\u001b[39m\u001b[38;5;124mkl\u001b[39m\u001b[38;5;124m\"\u001b[39m: region,\n\u001b[1;32m   (...)\u001b[0m\n\u001b[0;32m    276\u001b[0m     \u001b[38;5;124m\"\u001b[39m\u001b[38;5;124mex\u001b[39m\u001b[38;5;124m\"\u001b[39m: \u001b[38;5;124m\"\u001b[39m\u001b[38;5;124m\"\u001b[39m,\n\u001b[0;32m    277\u001b[0m }\n",
      "File \u001b[1;32mc:\\Users\\My_Pc\\anaconda3\\envs\\Minh-AI\\Lib\\site-packages\\duckduckgo_search\\duckduckgo_search.py:133\u001b[0m, in \u001b[0;36mDDGS._get_vqd\u001b[1;34m(self, keywords)\u001b[0m\n\u001b[0;32m    132\u001b[0m \u001b[38;5;250m\u001b[39m\u001b[38;5;124;03m\"\"\"Get vqd value for a search query.\"\"\"\u001b[39;00m\n\u001b[1;32m--> 133\u001b[0m resp_content \u001b[38;5;241m=\u001b[39m \u001b[38;5;28;43mself\u001b[39;49m\u001b[38;5;241;43m.\u001b[39;49m\u001b[43m_get_url\u001b[49m\u001b[43m(\u001b[49m\u001b[38;5;124;43m\"\u001b[39;49m\u001b[38;5;124;43mPOST\u001b[39;49m\u001b[38;5;124;43m\"\u001b[39;49m\u001b[43m,\u001b[49m\u001b[43m \u001b[49m\u001b[38;5;124;43m\"\u001b[39;49m\u001b[38;5;124;43mhttps://duckduckgo.com\u001b[39;49m\u001b[38;5;124;43m\"\u001b[39;49m\u001b[43m,\u001b[49m\u001b[43m \u001b[49m\u001b[43mdata\u001b[49m\u001b[38;5;241;43m=\u001b[39;49m\u001b[43m{\u001b[49m\u001b[38;5;124;43m\"\u001b[39;49m\u001b[38;5;124;43mq\u001b[39;49m\u001b[38;5;124;43m\"\u001b[39;49m\u001b[43m:\u001b[49m\u001b[43m \u001b[49m\u001b[43mkeywords\u001b[49m\u001b[43m}\u001b[49m\u001b[43m)\u001b[49m\n\u001b[0;32m    134\u001b[0m \u001b[38;5;28;01mreturn\u001b[39;00m _extract_vqd(resp_content, keywords)\n",
      "File \u001b[1;32mc:\\Users\\My_Pc\\anaconda3\\envs\\Minh-AI\\Lib\\site-packages\\duckduckgo_search\\duckduckgo_search.py:129\u001b[0m, in \u001b[0;36mDDGS._get_url\u001b[1;34m(self, method, url, params, content, data)\u001b[0m\n\u001b[0;32m    128\u001b[0m     \u001b[38;5;28;01mraise\u001b[39;00m RatelimitException(\u001b[38;5;124mf\u001b[39m\u001b[38;5;124m\"\u001b[39m\u001b[38;5;132;01m{\u001b[39;00mresp\u001b[38;5;241m.\u001b[39murl\u001b[38;5;132;01m}\u001b[39;00m\u001b[38;5;124m \u001b[39m\u001b[38;5;132;01m{\u001b[39;00mresp\u001b[38;5;241m.\u001b[39mstatus_code\u001b[38;5;132;01m}\u001b[39;00m\u001b[38;5;124m Ratelimit\u001b[39m\u001b[38;5;124m\"\u001b[39m)\n\u001b[1;32m--> 129\u001b[0m \u001b[38;5;28;01mraise\u001b[39;00m DuckDuckGoSearchException(\u001b[38;5;124mf\u001b[39m\u001b[38;5;124m\"\u001b[39m\u001b[38;5;132;01m{\u001b[39;00mresp\u001b[38;5;241m.\u001b[39murl\u001b[38;5;132;01m}\u001b[39;00m\u001b[38;5;124m return None. \u001b[39m\u001b[38;5;132;01m{\u001b[39;00mparams\u001b[38;5;132;01m=}\u001b[39;00m\u001b[38;5;124m \u001b[39m\u001b[38;5;132;01m{\u001b[39;00mcontent\u001b[38;5;132;01m=}\u001b[39;00m\u001b[38;5;124m \u001b[39m\u001b[38;5;132;01m{\u001b[39;00mdata\u001b[38;5;132;01m=}\u001b[39;00m\u001b[38;5;124m\"\u001b[39m)\n",
      "\u001b[1;31mDuckDuckGoSearchException\u001b[0m: https://duckduckgo.com/ return None. params=None content=None data={'q': 'Cho tôi hỏi có thể mở công ty kế toán dưới hình thức doanh nghiệp tư nhân được không?\\n -site:https://vietnamtourism.gov.vn -site:https://thuvienphapluat.vn/van-ban -site:https://thuvienphapluat.vn/cong-dong-dan-luat -site:https://vi.wikipedia.org -site:https://careerviet.vn -site:https://lawkey.vn -site:https://chinhphu.vn/ -site:https://luatminhkhue.vn -site:https://dangkykinhdoanh.gov.vn -site:https://baomoi.com -site:https://gaadvisor.net/ -site:https://www.pace.edu.vn'}",
      "\nDuring handling of the above exception, another exception occurred:\n",
      "\u001b[1;31mDuckDuckGoSearchException\u001b[0m                 Traceback (most recent call last)",
      "Cell \u001b[1;32mIn[7], line 11\u001b[0m, in \u001b[0;36mgoogle_search\u001b[1;34m(input_text)\u001b[0m\n\u001b[0;32m     10\u001b[0m \u001b[38;5;28;01mtry\u001b[39;00m:\n\u001b[1;32m---> 11\u001b[0m     results \u001b[38;5;241m=\u001b[39m \u001b[43mDDGS\u001b[49m\u001b[43m(\u001b[49m\u001b[43m)\u001b[49m\u001b[38;5;241;43m.\u001b[39;49m\u001b[43mtext\u001b[49m\u001b[43m(\u001b[49m\n\u001b[0;32m     12\u001b[0m \u001b[43m        \u001b[49m\u001b[43mkeywords\u001b[49m\u001b[43m \u001b[49m\u001b[38;5;241;43m=\u001b[39;49m\u001b[43m \u001b[49m\u001b[43msearch_query\u001b[49m\u001b[43m,\u001b[49m\n\u001b[0;32m     13\u001b[0m \u001b[43m        \u001b[49m\u001b[43mregion\u001b[49m\u001b[43m \u001b[49m\u001b[38;5;241;43m=\u001b[39;49m\u001b[43m \u001b[49m\u001b[38;5;124;43m'\u001b[39;49m\u001b[38;5;124;43mvn-vi\u001b[39;49m\u001b[38;5;124;43m'\u001b[39;49m\u001b[43m,\u001b[49m\n\u001b[0;32m     14\u001b[0m \u001b[43m        \u001b[49m\u001b[43msafesearch\u001b[49m\u001b[38;5;241;43m=\u001b[39;49m\u001b[43m \u001b[49m\u001b[38;5;124;43m'\u001b[39;49m\u001b[38;5;124;43mmoderate\u001b[39;49m\u001b[38;5;124;43m'\u001b[39;49m\u001b[43m,\u001b[49m\n\u001b[0;32m     15\u001b[0m \u001b[43m        \u001b[49m\u001b[38;5;66;43;03m# timelimit= 'y',\u001b[39;49;00m\n\u001b[0;32m     16\u001b[0m \u001b[43m        \u001b[49m\u001b[43mmax_results\u001b[49m\u001b[38;5;241;43m=\u001b[39;49m\u001b[43m \u001b[49m\u001b[38;5;241;43m5\u001b[39;49m\n\u001b[0;32m     17\u001b[0m \u001b[43m    \u001b[49m\u001b[43m)\u001b[49m\n\u001b[0;32m     18\u001b[0m     \u001b[38;5;66;03m# # Biểu thức regex để loại bỏ các URL không mong muốn\u001b[39;00m\n\u001b[0;32m     19\u001b[0m     \u001b[38;5;66;03m# regex_pattern = r'-d([1-9]|10)\\.html'\u001b[39;00m\n\u001b[0;32m     20\u001b[0m     \u001b[38;5;66;03m# # Lọc kết quả bằng regex\u001b[39;00m\n\u001b[0;32m     21\u001b[0m     \u001b[38;5;66;03m# filtered_results = [result for result in results if not re.search(regex_pattern, result['href'])]\u001b[39;00m\n",
      "File \u001b[1;32mc:\\Users\\My_Pc\\anaconda3\\envs\\Minh-AI\\Lib\\site-packages\\duckduckgo_search\\duckduckgo_search.py:231\u001b[0m, in \u001b[0;36mDDGS.text\u001b[1;34m(self, keywords, region, safesearch, timelimit, backend, max_results)\u001b[0m\n\u001b[0;32m    230\u001b[0m \u001b[38;5;28;01mif\u001b[39;00m backend \u001b[38;5;241m==\u001b[39m \u001b[38;5;124m\"\u001b[39m\u001b[38;5;124mapi\u001b[39m\u001b[38;5;124m\"\u001b[39m:\n\u001b[1;32m--> 231\u001b[0m     results \u001b[38;5;241m=\u001b[39m \u001b[38;5;28;43mself\u001b[39;49m\u001b[38;5;241;43m.\u001b[39;49m\u001b[43m_text_api\u001b[49m\u001b[43m(\u001b[49m\u001b[43mkeywords\u001b[49m\u001b[43m,\u001b[49m\u001b[43m \u001b[49m\u001b[43mregion\u001b[49m\u001b[43m,\u001b[49m\u001b[43m \u001b[49m\u001b[43msafesearch\u001b[49m\u001b[43m,\u001b[49m\u001b[43m \u001b[49m\u001b[43mtimelimit\u001b[49m\u001b[43m,\u001b[49m\u001b[43m \u001b[49m\u001b[43mmax_results\u001b[49m\u001b[43m)\u001b[49m\n\u001b[0;32m    232\u001b[0m \u001b[38;5;28;01melif\u001b[39;00m backend \u001b[38;5;241m==\u001b[39m \u001b[38;5;124m\"\u001b[39m\u001b[38;5;124mhtml\u001b[39m\u001b[38;5;124m\"\u001b[39m:\n",
      "File \u001b[1;32mc:\\Users\\My_Pc\\anaconda3\\envs\\Minh-AI\\Lib\\site-packages\\duckduckgo_search\\duckduckgo_search.py:265\u001b[0m, in \u001b[0;36mDDGS._text_api\u001b[1;34m(self, keywords, region, safesearch, timelimit, max_results)\u001b[0m\n\u001b[0;32m    263\u001b[0m \u001b[38;5;28;01massert\u001b[39;00m keywords, \u001b[38;5;124m\"\u001b[39m\u001b[38;5;124mkeywords is mandatory\u001b[39m\u001b[38;5;124m\"\u001b[39m\n\u001b[1;32m--> 265\u001b[0m vqd \u001b[38;5;241m=\u001b[39m \u001b[38;5;28;43mself\u001b[39;49m\u001b[38;5;241;43m.\u001b[39;49m\u001b[43m_get_vqd\u001b[49m\u001b[43m(\u001b[49m\u001b[43mkeywords\u001b[49m\u001b[43m)\u001b[49m\n\u001b[0;32m    267\u001b[0m payload \u001b[38;5;241m=\u001b[39m {\n\u001b[0;32m    268\u001b[0m     \u001b[38;5;124m\"\u001b[39m\u001b[38;5;124mq\u001b[39m\u001b[38;5;124m\"\u001b[39m: keywords,\n\u001b[0;32m    269\u001b[0m     \u001b[38;5;124m\"\u001b[39m\u001b[38;5;124mkl\u001b[39m\u001b[38;5;124m\"\u001b[39m: region,\n\u001b[1;32m   (...)\u001b[0m\n\u001b[0;32m    276\u001b[0m     \u001b[38;5;124m\"\u001b[39m\u001b[38;5;124mex\u001b[39m\u001b[38;5;124m\"\u001b[39m: \u001b[38;5;124m\"\u001b[39m\u001b[38;5;124m\"\u001b[39m,\n\u001b[0;32m    277\u001b[0m }\n",
      "File \u001b[1;32mc:\\Users\\My_Pc\\anaconda3\\envs\\Minh-AI\\Lib\\site-packages\\duckduckgo_search\\duckduckgo_search.py:133\u001b[0m, in \u001b[0;36mDDGS._get_vqd\u001b[1;34m(self, keywords)\u001b[0m\n\u001b[0;32m    132\u001b[0m \u001b[38;5;250m\u001b[39m\u001b[38;5;124;03m\"\"\"Get vqd value for a search query.\"\"\"\u001b[39;00m\n\u001b[1;32m--> 133\u001b[0m resp_content \u001b[38;5;241m=\u001b[39m \u001b[38;5;28;43mself\u001b[39;49m\u001b[38;5;241;43m.\u001b[39;49m\u001b[43m_get_url\u001b[49m\u001b[43m(\u001b[49m\u001b[38;5;124;43m\"\u001b[39;49m\u001b[38;5;124;43mPOST\u001b[39;49m\u001b[38;5;124;43m\"\u001b[39;49m\u001b[43m,\u001b[49m\u001b[43m \u001b[49m\u001b[38;5;124;43m\"\u001b[39;49m\u001b[38;5;124;43mhttps://duckduckgo.com\u001b[39;49m\u001b[38;5;124;43m\"\u001b[39;49m\u001b[43m,\u001b[49m\u001b[43m \u001b[49m\u001b[43mdata\u001b[49m\u001b[38;5;241;43m=\u001b[39;49m\u001b[43m{\u001b[49m\u001b[38;5;124;43m\"\u001b[39;49m\u001b[38;5;124;43mq\u001b[39;49m\u001b[38;5;124;43m\"\u001b[39;49m\u001b[43m:\u001b[49m\u001b[43m \u001b[49m\u001b[43mkeywords\u001b[49m\u001b[43m}\u001b[49m\u001b[43m)\u001b[49m\n\u001b[0;32m    134\u001b[0m \u001b[38;5;28;01mreturn\u001b[39;00m _extract_vqd(resp_content, keywords)\n",
      "File \u001b[1;32mc:\\Users\\My_Pc\\anaconda3\\envs\\Minh-AI\\Lib\\site-packages\\duckduckgo_search\\duckduckgo_search.py:129\u001b[0m, in \u001b[0;36mDDGS._get_url\u001b[1;34m(self, method, url, params, content, data)\u001b[0m\n\u001b[0;32m    128\u001b[0m     \u001b[38;5;28;01mraise\u001b[39;00m RatelimitException(\u001b[38;5;124mf\u001b[39m\u001b[38;5;124m\"\u001b[39m\u001b[38;5;132;01m{\u001b[39;00mresp\u001b[38;5;241m.\u001b[39murl\u001b[38;5;132;01m}\u001b[39;00m\u001b[38;5;124m \u001b[39m\u001b[38;5;132;01m{\u001b[39;00mresp\u001b[38;5;241m.\u001b[39mstatus_code\u001b[38;5;132;01m}\u001b[39;00m\u001b[38;5;124m Ratelimit\u001b[39m\u001b[38;5;124m\"\u001b[39m)\n\u001b[1;32m--> 129\u001b[0m \u001b[38;5;28;01mraise\u001b[39;00m DuckDuckGoSearchException(\u001b[38;5;124mf\u001b[39m\u001b[38;5;124m\"\u001b[39m\u001b[38;5;132;01m{\u001b[39;00mresp\u001b[38;5;241m.\u001b[39murl\u001b[38;5;132;01m}\u001b[39;00m\u001b[38;5;124m return None. \u001b[39m\u001b[38;5;132;01m{\u001b[39;00mparams\u001b[38;5;132;01m=}\u001b[39;00m\u001b[38;5;124m \u001b[39m\u001b[38;5;132;01m{\u001b[39;00mcontent\u001b[38;5;132;01m=}\u001b[39;00m\u001b[38;5;124m \u001b[39m\u001b[38;5;132;01m{\u001b[39;00mdata\u001b[38;5;132;01m=}\u001b[39;00m\u001b[38;5;124m\"\u001b[39m)\n",
      "\u001b[1;31mDuckDuckGoSearchException\u001b[0m: https://duckduckgo.com/ return None. params=None content=None data={'q': 'Cho tôi hỏi có thể mở công ty kế toán dưới hình thức doanh nghiệp tư nhân được không?\\n -site:https://vietnamtourism.gov.vn -site:https://thuvienphapluat.vn/van-ban -site:https://thuvienphapluat.vn/cong-dong-dan-luat -site:https://vi.wikipedia.org -site:https://careerviet.vn -site:https://lawkey.vn -site:https://chinhphu.vn/ -site:https://luatminhkhue.vn -site:https://dangkykinhdoanh.gov.vn -site:https://baomoi.com -site:https://gaadvisor.net/ -site:https://www.pace.edu.vn'}",
      "\nDuring handling of the above exception, another exception occurred:\n",
      "\u001b[1;31mDuckDuckGoSearchException\u001b[0m                 Traceback (most recent call last)",
      "Cell \u001b[1;32mIn[7], line 11\u001b[0m, in \u001b[0;36mgoogle_search\u001b[1;34m(input_text)\u001b[0m\n\u001b[0;32m     10\u001b[0m \u001b[38;5;28;01mtry\u001b[39;00m:\n\u001b[1;32m---> 11\u001b[0m     results \u001b[38;5;241m=\u001b[39m \u001b[43mDDGS\u001b[49m\u001b[43m(\u001b[49m\u001b[43m)\u001b[49m\u001b[38;5;241;43m.\u001b[39;49m\u001b[43mtext\u001b[49m\u001b[43m(\u001b[49m\n\u001b[0;32m     12\u001b[0m \u001b[43m        \u001b[49m\u001b[43mkeywords\u001b[49m\u001b[43m \u001b[49m\u001b[38;5;241;43m=\u001b[39;49m\u001b[43m \u001b[49m\u001b[43msearch_query\u001b[49m\u001b[43m,\u001b[49m\n\u001b[0;32m     13\u001b[0m \u001b[43m        \u001b[49m\u001b[43mregion\u001b[49m\u001b[43m \u001b[49m\u001b[38;5;241;43m=\u001b[39;49m\u001b[43m \u001b[49m\u001b[38;5;124;43m'\u001b[39;49m\u001b[38;5;124;43mvn-vi\u001b[39;49m\u001b[38;5;124;43m'\u001b[39;49m\u001b[43m,\u001b[49m\n\u001b[0;32m     14\u001b[0m \u001b[43m        \u001b[49m\u001b[43msafesearch\u001b[49m\u001b[38;5;241;43m=\u001b[39;49m\u001b[43m \u001b[49m\u001b[38;5;124;43m'\u001b[39;49m\u001b[38;5;124;43mmoderate\u001b[39;49m\u001b[38;5;124;43m'\u001b[39;49m\u001b[43m,\u001b[49m\n\u001b[0;32m     15\u001b[0m \u001b[43m        \u001b[49m\u001b[38;5;66;43;03m# timelimit= 'y',\u001b[39;49;00m\n\u001b[0;32m     16\u001b[0m \u001b[43m        \u001b[49m\u001b[43mmax_results\u001b[49m\u001b[38;5;241;43m=\u001b[39;49m\u001b[43m \u001b[49m\u001b[38;5;241;43m5\u001b[39;49m\n\u001b[0;32m     17\u001b[0m \u001b[43m    \u001b[49m\u001b[43m)\u001b[49m\n\u001b[0;32m     18\u001b[0m     \u001b[38;5;66;03m# # Biểu thức regex để loại bỏ các URL không mong muốn\u001b[39;00m\n\u001b[0;32m     19\u001b[0m     \u001b[38;5;66;03m# regex_pattern = r'-d([1-9]|10)\\.html'\u001b[39;00m\n\u001b[0;32m     20\u001b[0m     \u001b[38;5;66;03m# # Lọc kết quả bằng regex\u001b[39;00m\n\u001b[0;32m     21\u001b[0m     \u001b[38;5;66;03m# filtered_results = [result for result in results if not re.search(regex_pattern, result['href'])]\u001b[39;00m\n",
      "File \u001b[1;32mc:\\Users\\My_Pc\\anaconda3\\envs\\Minh-AI\\Lib\\site-packages\\duckduckgo_search\\duckduckgo_search.py:231\u001b[0m, in \u001b[0;36mDDGS.text\u001b[1;34m(self, keywords, region, safesearch, timelimit, backend, max_results)\u001b[0m\n\u001b[0;32m    230\u001b[0m \u001b[38;5;28;01mif\u001b[39;00m backend \u001b[38;5;241m==\u001b[39m \u001b[38;5;124m\"\u001b[39m\u001b[38;5;124mapi\u001b[39m\u001b[38;5;124m\"\u001b[39m:\n\u001b[1;32m--> 231\u001b[0m     results \u001b[38;5;241m=\u001b[39m \u001b[38;5;28;43mself\u001b[39;49m\u001b[38;5;241;43m.\u001b[39;49m\u001b[43m_text_api\u001b[49m\u001b[43m(\u001b[49m\u001b[43mkeywords\u001b[49m\u001b[43m,\u001b[49m\u001b[43m \u001b[49m\u001b[43mregion\u001b[49m\u001b[43m,\u001b[49m\u001b[43m \u001b[49m\u001b[43msafesearch\u001b[49m\u001b[43m,\u001b[49m\u001b[43m \u001b[49m\u001b[43mtimelimit\u001b[49m\u001b[43m,\u001b[49m\u001b[43m \u001b[49m\u001b[43mmax_results\u001b[49m\u001b[43m)\u001b[49m\n\u001b[0;32m    232\u001b[0m \u001b[38;5;28;01melif\u001b[39;00m backend \u001b[38;5;241m==\u001b[39m \u001b[38;5;124m\"\u001b[39m\u001b[38;5;124mhtml\u001b[39m\u001b[38;5;124m\"\u001b[39m:\n",
      "File \u001b[1;32mc:\\Users\\My_Pc\\anaconda3\\envs\\Minh-AI\\Lib\\site-packages\\duckduckgo_search\\duckduckgo_search.py:265\u001b[0m, in \u001b[0;36mDDGS._text_api\u001b[1;34m(self, keywords, region, safesearch, timelimit, max_results)\u001b[0m\n\u001b[0;32m    263\u001b[0m \u001b[38;5;28;01massert\u001b[39;00m keywords, \u001b[38;5;124m\"\u001b[39m\u001b[38;5;124mkeywords is mandatory\u001b[39m\u001b[38;5;124m\"\u001b[39m\n\u001b[1;32m--> 265\u001b[0m vqd \u001b[38;5;241m=\u001b[39m \u001b[38;5;28;43mself\u001b[39;49m\u001b[38;5;241;43m.\u001b[39;49m\u001b[43m_get_vqd\u001b[49m\u001b[43m(\u001b[49m\u001b[43mkeywords\u001b[49m\u001b[43m)\u001b[49m\n\u001b[0;32m    267\u001b[0m payload \u001b[38;5;241m=\u001b[39m {\n\u001b[0;32m    268\u001b[0m     \u001b[38;5;124m\"\u001b[39m\u001b[38;5;124mq\u001b[39m\u001b[38;5;124m\"\u001b[39m: keywords,\n\u001b[0;32m    269\u001b[0m     \u001b[38;5;124m\"\u001b[39m\u001b[38;5;124mkl\u001b[39m\u001b[38;5;124m\"\u001b[39m: region,\n\u001b[1;32m   (...)\u001b[0m\n\u001b[0;32m    276\u001b[0m     \u001b[38;5;124m\"\u001b[39m\u001b[38;5;124mex\u001b[39m\u001b[38;5;124m\"\u001b[39m: \u001b[38;5;124m\"\u001b[39m\u001b[38;5;124m\"\u001b[39m,\n\u001b[0;32m    277\u001b[0m }\n",
      "File \u001b[1;32mc:\\Users\\My_Pc\\anaconda3\\envs\\Minh-AI\\Lib\\site-packages\\duckduckgo_search\\duckduckgo_search.py:133\u001b[0m, in \u001b[0;36mDDGS._get_vqd\u001b[1;34m(self, keywords)\u001b[0m\n\u001b[0;32m    132\u001b[0m \u001b[38;5;250m\u001b[39m\u001b[38;5;124;03m\"\"\"Get vqd value for a search query.\"\"\"\u001b[39;00m\n\u001b[1;32m--> 133\u001b[0m resp_content \u001b[38;5;241m=\u001b[39m \u001b[38;5;28;43mself\u001b[39;49m\u001b[38;5;241;43m.\u001b[39;49m\u001b[43m_get_url\u001b[49m\u001b[43m(\u001b[49m\u001b[38;5;124;43m\"\u001b[39;49m\u001b[38;5;124;43mPOST\u001b[39;49m\u001b[38;5;124;43m\"\u001b[39;49m\u001b[43m,\u001b[49m\u001b[43m \u001b[49m\u001b[38;5;124;43m\"\u001b[39;49m\u001b[38;5;124;43mhttps://duckduckgo.com\u001b[39;49m\u001b[38;5;124;43m\"\u001b[39;49m\u001b[43m,\u001b[49m\u001b[43m \u001b[49m\u001b[43mdata\u001b[49m\u001b[38;5;241;43m=\u001b[39;49m\u001b[43m{\u001b[49m\u001b[38;5;124;43m\"\u001b[39;49m\u001b[38;5;124;43mq\u001b[39;49m\u001b[38;5;124;43m\"\u001b[39;49m\u001b[43m:\u001b[49m\u001b[43m \u001b[49m\u001b[43mkeywords\u001b[49m\u001b[43m}\u001b[49m\u001b[43m)\u001b[49m\n\u001b[0;32m    134\u001b[0m \u001b[38;5;28;01mreturn\u001b[39;00m _extract_vqd(resp_content, keywords)\n",
      "File \u001b[1;32mc:\\Users\\My_Pc\\anaconda3\\envs\\Minh-AI\\Lib\\site-packages\\duckduckgo_search\\duckduckgo_search.py:129\u001b[0m, in \u001b[0;36mDDGS._get_url\u001b[1;34m(self, method, url, params, content, data)\u001b[0m\n\u001b[0;32m    128\u001b[0m     \u001b[38;5;28;01mraise\u001b[39;00m RatelimitException(\u001b[38;5;124mf\u001b[39m\u001b[38;5;124m\"\u001b[39m\u001b[38;5;132;01m{\u001b[39;00mresp\u001b[38;5;241m.\u001b[39murl\u001b[38;5;132;01m}\u001b[39;00m\u001b[38;5;124m \u001b[39m\u001b[38;5;132;01m{\u001b[39;00mresp\u001b[38;5;241m.\u001b[39mstatus_code\u001b[38;5;132;01m}\u001b[39;00m\u001b[38;5;124m Ratelimit\u001b[39m\u001b[38;5;124m\"\u001b[39m)\n\u001b[1;32m--> 129\u001b[0m \u001b[38;5;28;01mraise\u001b[39;00m DuckDuckGoSearchException(\u001b[38;5;124mf\u001b[39m\u001b[38;5;124m\"\u001b[39m\u001b[38;5;132;01m{\u001b[39;00mresp\u001b[38;5;241m.\u001b[39murl\u001b[38;5;132;01m}\u001b[39;00m\u001b[38;5;124m return None. \u001b[39m\u001b[38;5;132;01m{\u001b[39;00mparams\u001b[38;5;132;01m=}\u001b[39;00m\u001b[38;5;124m \u001b[39m\u001b[38;5;132;01m{\u001b[39;00mcontent\u001b[38;5;132;01m=}\u001b[39;00m\u001b[38;5;124m \u001b[39m\u001b[38;5;132;01m{\u001b[39;00mdata\u001b[38;5;132;01m=}\u001b[39;00m\u001b[38;5;124m\"\u001b[39m)\n",
      "\u001b[1;31mDuckDuckGoSearchException\u001b[0m: https://duckduckgo.com/ return None. params=None content=None data={'q': 'Cho tôi hỏi có thể mở công ty kế toán dưới hình thức doanh nghiệp tư nhân được không?\\n -site:https://vietnamtourism.gov.vn -site:https://thuvienphapluat.vn/van-ban -site:https://thuvienphapluat.vn/cong-dong-dan-luat -site:https://vi.wikipedia.org -site:https://careerviet.vn -site:https://lawkey.vn -site:https://chinhphu.vn/ -site:https://luatminhkhue.vn -site:https://dangkykinhdoanh.gov.vn -site:https://baomoi.com -site:https://gaadvisor.net/ -site:https://www.pace.edu.vn'}",
      "\nDuring handling of the above exception, another exception occurred:\n",
      "\u001b[1;31mDuckDuckGoSearchException\u001b[0m                 Traceback (most recent call last)",
      "Cell \u001b[1;32mIn[7], line 11\u001b[0m, in \u001b[0;36mgoogle_search\u001b[1;34m(input_text)\u001b[0m\n\u001b[0;32m     10\u001b[0m \u001b[38;5;28;01mtry\u001b[39;00m:\n\u001b[1;32m---> 11\u001b[0m     results \u001b[38;5;241m=\u001b[39m \u001b[43mDDGS\u001b[49m\u001b[43m(\u001b[49m\u001b[43m)\u001b[49m\u001b[38;5;241;43m.\u001b[39;49m\u001b[43mtext\u001b[49m\u001b[43m(\u001b[49m\n\u001b[0;32m     12\u001b[0m \u001b[43m        \u001b[49m\u001b[43mkeywords\u001b[49m\u001b[43m \u001b[49m\u001b[38;5;241;43m=\u001b[39;49m\u001b[43m \u001b[49m\u001b[43msearch_query\u001b[49m\u001b[43m,\u001b[49m\n\u001b[0;32m     13\u001b[0m \u001b[43m        \u001b[49m\u001b[43mregion\u001b[49m\u001b[43m \u001b[49m\u001b[38;5;241;43m=\u001b[39;49m\u001b[43m \u001b[49m\u001b[38;5;124;43m'\u001b[39;49m\u001b[38;5;124;43mvn-vi\u001b[39;49m\u001b[38;5;124;43m'\u001b[39;49m\u001b[43m,\u001b[49m\n\u001b[0;32m     14\u001b[0m \u001b[43m        \u001b[49m\u001b[43msafesearch\u001b[49m\u001b[38;5;241;43m=\u001b[39;49m\u001b[43m \u001b[49m\u001b[38;5;124;43m'\u001b[39;49m\u001b[38;5;124;43mmoderate\u001b[39;49m\u001b[38;5;124;43m'\u001b[39;49m\u001b[43m,\u001b[49m\n\u001b[0;32m     15\u001b[0m \u001b[43m        \u001b[49m\u001b[38;5;66;43;03m# timelimit= 'y',\u001b[39;49;00m\n\u001b[0;32m     16\u001b[0m \u001b[43m        \u001b[49m\u001b[43mmax_results\u001b[49m\u001b[38;5;241;43m=\u001b[39;49m\u001b[43m \u001b[49m\u001b[38;5;241;43m5\u001b[39;49m\n\u001b[0;32m     17\u001b[0m \u001b[43m    \u001b[49m\u001b[43m)\u001b[49m\n\u001b[0;32m     18\u001b[0m     \u001b[38;5;66;03m# # Biểu thức regex để loại bỏ các URL không mong muốn\u001b[39;00m\n\u001b[0;32m     19\u001b[0m     \u001b[38;5;66;03m# regex_pattern = r'-d([1-9]|10)\\.html'\u001b[39;00m\n\u001b[0;32m     20\u001b[0m     \u001b[38;5;66;03m# # Lọc kết quả bằng regex\u001b[39;00m\n\u001b[0;32m     21\u001b[0m     \u001b[38;5;66;03m# filtered_results = [result for result in results if not re.search(regex_pattern, result['href'])]\u001b[39;00m\n",
      "File \u001b[1;32mc:\\Users\\My_Pc\\anaconda3\\envs\\Minh-AI\\Lib\\site-packages\\duckduckgo_search\\duckduckgo_search.py:231\u001b[0m, in \u001b[0;36mDDGS.text\u001b[1;34m(self, keywords, region, safesearch, timelimit, backend, max_results)\u001b[0m\n\u001b[0;32m    230\u001b[0m \u001b[38;5;28;01mif\u001b[39;00m backend \u001b[38;5;241m==\u001b[39m \u001b[38;5;124m\"\u001b[39m\u001b[38;5;124mapi\u001b[39m\u001b[38;5;124m\"\u001b[39m:\n\u001b[1;32m--> 231\u001b[0m     results \u001b[38;5;241m=\u001b[39m \u001b[38;5;28;43mself\u001b[39;49m\u001b[38;5;241;43m.\u001b[39;49m\u001b[43m_text_api\u001b[49m\u001b[43m(\u001b[49m\u001b[43mkeywords\u001b[49m\u001b[43m,\u001b[49m\u001b[43m \u001b[49m\u001b[43mregion\u001b[49m\u001b[43m,\u001b[49m\u001b[43m \u001b[49m\u001b[43msafesearch\u001b[49m\u001b[43m,\u001b[49m\u001b[43m \u001b[49m\u001b[43mtimelimit\u001b[49m\u001b[43m,\u001b[49m\u001b[43m \u001b[49m\u001b[43mmax_results\u001b[49m\u001b[43m)\u001b[49m\n\u001b[0;32m    232\u001b[0m \u001b[38;5;28;01melif\u001b[39;00m backend \u001b[38;5;241m==\u001b[39m \u001b[38;5;124m\"\u001b[39m\u001b[38;5;124mhtml\u001b[39m\u001b[38;5;124m\"\u001b[39m:\n",
      "File \u001b[1;32mc:\\Users\\My_Pc\\anaconda3\\envs\\Minh-AI\\Lib\\site-packages\\duckduckgo_search\\duckduckgo_search.py:265\u001b[0m, in \u001b[0;36mDDGS._text_api\u001b[1;34m(self, keywords, region, safesearch, timelimit, max_results)\u001b[0m\n\u001b[0;32m    263\u001b[0m \u001b[38;5;28;01massert\u001b[39;00m keywords, \u001b[38;5;124m\"\u001b[39m\u001b[38;5;124mkeywords is mandatory\u001b[39m\u001b[38;5;124m\"\u001b[39m\n\u001b[1;32m--> 265\u001b[0m vqd \u001b[38;5;241m=\u001b[39m \u001b[38;5;28;43mself\u001b[39;49m\u001b[38;5;241;43m.\u001b[39;49m\u001b[43m_get_vqd\u001b[49m\u001b[43m(\u001b[49m\u001b[43mkeywords\u001b[49m\u001b[43m)\u001b[49m\n\u001b[0;32m    267\u001b[0m payload \u001b[38;5;241m=\u001b[39m {\n\u001b[0;32m    268\u001b[0m     \u001b[38;5;124m\"\u001b[39m\u001b[38;5;124mq\u001b[39m\u001b[38;5;124m\"\u001b[39m: keywords,\n\u001b[0;32m    269\u001b[0m     \u001b[38;5;124m\"\u001b[39m\u001b[38;5;124mkl\u001b[39m\u001b[38;5;124m\"\u001b[39m: region,\n\u001b[1;32m   (...)\u001b[0m\n\u001b[0;32m    276\u001b[0m     \u001b[38;5;124m\"\u001b[39m\u001b[38;5;124mex\u001b[39m\u001b[38;5;124m\"\u001b[39m: \u001b[38;5;124m\"\u001b[39m\u001b[38;5;124m\"\u001b[39m,\n\u001b[0;32m    277\u001b[0m }\n",
      "File \u001b[1;32mc:\\Users\\My_Pc\\anaconda3\\envs\\Minh-AI\\Lib\\site-packages\\duckduckgo_search\\duckduckgo_search.py:133\u001b[0m, in \u001b[0;36mDDGS._get_vqd\u001b[1;34m(self, keywords)\u001b[0m\n\u001b[0;32m    132\u001b[0m \u001b[38;5;250m\u001b[39m\u001b[38;5;124;03m\"\"\"Get vqd value for a search query.\"\"\"\u001b[39;00m\n\u001b[1;32m--> 133\u001b[0m resp_content \u001b[38;5;241m=\u001b[39m \u001b[38;5;28;43mself\u001b[39;49m\u001b[38;5;241;43m.\u001b[39;49m\u001b[43m_get_url\u001b[49m\u001b[43m(\u001b[49m\u001b[38;5;124;43m\"\u001b[39;49m\u001b[38;5;124;43mPOST\u001b[39;49m\u001b[38;5;124;43m\"\u001b[39;49m\u001b[43m,\u001b[49m\u001b[43m \u001b[49m\u001b[38;5;124;43m\"\u001b[39;49m\u001b[38;5;124;43mhttps://duckduckgo.com\u001b[39;49m\u001b[38;5;124;43m\"\u001b[39;49m\u001b[43m,\u001b[49m\u001b[43m \u001b[49m\u001b[43mdata\u001b[49m\u001b[38;5;241;43m=\u001b[39;49m\u001b[43m{\u001b[49m\u001b[38;5;124;43m\"\u001b[39;49m\u001b[38;5;124;43mq\u001b[39;49m\u001b[38;5;124;43m\"\u001b[39;49m\u001b[43m:\u001b[49m\u001b[43m \u001b[49m\u001b[43mkeywords\u001b[49m\u001b[43m}\u001b[49m\u001b[43m)\u001b[49m\n\u001b[0;32m    134\u001b[0m \u001b[38;5;28;01mreturn\u001b[39;00m _extract_vqd(resp_content, keywords)\n",
      "File \u001b[1;32mc:\\Users\\My_Pc\\anaconda3\\envs\\Minh-AI\\Lib\\site-packages\\duckduckgo_search\\duckduckgo_search.py:129\u001b[0m, in \u001b[0;36mDDGS._get_url\u001b[1;34m(self, method, url, params, content, data)\u001b[0m\n\u001b[0;32m    128\u001b[0m     \u001b[38;5;28;01mraise\u001b[39;00m RatelimitException(\u001b[38;5;124mf\u001b[39m\u001b[38;5;124m\"\u001b[39m\u001b[38;5;132;01m{\u001b[39;00mresp\u001b[38;5;241m.\u001b[39murl\u001b[38;5;132;01m}\u001b[39;00m\u001b[38;5;124m \u001b[39m\u001b[38;5;132;01m{\u001b[39;00mresp\u001b[38;5;241m.\u001b[39mstatus_code\u001b[38;5;132;01m}\u001b[39;00m\u001b[38;5;124m Ratelimit\u001b[39m\u001b[38;5;124m\"\u001b[39m)\n\u001b[1;32m--> 129\u001b[0m \u001b[38;5;28;01mraise\u001b[39;00m DuckDuckGoSearchException(\u001b[38;5;124mf\u001b[39m\u001b[38;5;124m\"\u001b[39m\u001b[38;5;132;01m{\u001b[39;00mresp\u001b[38;5;241m.\u001b[39murl\u001b[38;5;132;01m}\u001b[39;00m\u001b[38;5;124m return None. \u001b[39m\u001b[38;5;132;01m{\u001b[39;00mparams\u001b[38;5;132;01m=}\u001b[39;00m\u001b[38;5;124m \u001b[39m\u001b[38;5;132;01m{\u001b[39;00mcontent\u001b[38;5;132;01m=}\u001b[39;00m\u001b[38;5;124m \u001b[39m\u001b[38;5;132;01m{\u001b[39;00mdata\u001b[38;5;132;01m=}\u001b[39;00m\u001b[38;5;124m\"\u001b[39m)\n",
      "\u001b[1;31mDuckDuckGoSearchException\u001b[0m: https://duckduckgo.com/ return None. params=None content=None data={'q': 'Cho tôi hỏi có thể mở công ty kế toán dưới hình thức doanh nghiệp tư nhân được không?\\n -site:https://vietnamtourism.gov.vn -site:https://thuvienphapluat.vn/van-ban -site:https://thuvienphapluat.vn/cong-dong-dan-luat -site:https://vi.wikipedia.org -site:https://careerviet.vn -site:https://lawkey.vn -site:https://chinhphu.vn/ -site:https://luatminhkhue.vn -site:https://dangkykinhdoanh.gov.vn -site:https://baomoi.com -site:https://gaadvisor.net/ -site:https://www.pace.edu.vn'}",
      "\nDuring handling of the above exception, another exception occurred:\n",
      "\u001b[1;31mKeyboardInterrupt\u001b[0m                         Traceback (most recent call last)",
      "Cell \u001b[1;32mIn[17], line 9\u001b[0m\n\u001b[0;32m      7\u001b[0m lines\u001b[38;5;241m.\u001b[39mappend(line)\n\u001b[0;32m      8\u001b[0m \u001b[38;5;66;03m# Xử lý dòng đọc được (loại bỏ ký tự xuống dòng bằng strip())\u001b[39;00m\n\u001b[1;32m----> 9\u001b[0m processed_lines\u001b[38;5;241m.\u001b[39mappend(\u001b[43mapi_search_for_test\u001b[49m\u001b[43m(\u001b[49m\u001b[43mline\u001b[49m\u001b[43m,\u001b[49m\u001b[43m \u001b[49m\u001b[43mmodel\u001b[49m\u001b[43m)\u001b[49m)\n",
      "Cell \u001b[1;32mIn[12], line 3\u001b[0m, in \u001b[0;36mapi_search_for_test\u001b[1;34m(input, model_similar)\u001b[0m\n\u001b[0;32m      1\u001b[0m \u001b[38;5;28;01mdef\u001b[39;00m \u001b[38;5;21mapi_search_for_test\u001b[39m(\u001b[38;5;28minput\u001b[39m, model_similar):\n\u001b[0;32m      2\u001b[0m     client \u001b[38;5;241m=\u001b[39m OpenAI()\n\u001b[1;32m----> 3\u001b[0m     gooole_request \u001b[38;5;241m=\u001b[39m \u001b[43mgoogle_search\u001b[49m\u001b[43m(\u001b[49m\u001b[38;5;28;43minput\u001b[39;49m\u001b[43m)\u001b[49m\n\u001b[0;32m      4\u001b[0m     \u001b[38;5;66;03m# print(gooole_request)\u001b[39;00m\n\u001b[0;32m      5\u001b[0m     matching_result \u001b[38;5;241m=\u001b[39m find_max_result_google_search(\u001b[38;5;28minput\u001b[39m, gooole_request, model_similar)\n",
      "Cell \u001b[1;32mIn[7], line 27\u001b[0m, in \u001b[0;36mgoogle_search\u001b[1;34m(input_text)\u001b[0m\n\u001b[0;32m     25\u001b[0m \u001b[38;5;66;03m# Wait for a random time between 5 to 10 seconds\u001b[39;00m\n\u001b[0;32m     26\u001b[0m time\u001b[38;5;241m.\u001b[39msleep(\u001b[38;5;241m21\u001b[39m)\n\u001b[1;32m---> 27\u001b[0m \u001b[38;5;28;01mreturn\u001b[39;00m \u001b[43mgoogle_search\u001b[49m\u001b[43m(\u001b[49m\u001b[43minput_text\u001b[49m\u001b[43m)\u001b[49m\n",
      "Cell \u001b[1;32mIn[7], line 27\u001b[0m, in \u001b[0;36mgoogle_search\u001b[1;34m(input_text)\u001b[0m\n\u001b[0;32m     25\u001b[0m \u001b[38;5;66;03m# Wait for a random time between 5 to 10 seconds\u001b[39;00m\n\u001b[0;32m     26\u001b[0m time\u001b[38;5;241m.\u001b[39msleep(\u001b[38;5;241m21\u001b[39m)\n\u001b[1;32m---> 27\u001b[0m \u001b[38;5;28;01mreturn\u001b[39;00m \u001b[43mgoogle_search\u001b[49m\u001b[43m(\u001b[49m\u001b[43minput_text\u001b[49m\u001b[43m)\u001b[49m\n",
      "    \u001b[1;31m[... skipping similar frames: google_search at line 27 (3 times)]\u001b[0m\n",
      "Cell \u001b[1;32mIn[7], line 27\u001b[0m, in \u001b[0;36mgoogle_search\u001b[1;34m(input_text)\u001b[0m\n\u001b[0;32m     25\u001b[0m \u001b[38;5;66;03m# Wait for a random time between 5 to 10 seconds\u001b[39;00m\n\u001b[0;32m     26\u001b[0m time\u001b[38;5;241m.\u001b[39msleep(\u001b[38;5;241m21\u001b[39m)\n\u001b[1;32m---> 27\u001b[0m \u001b[38;5;28;01mreturn\u001b[39;00m \u001b[43mgoogle_search\u001b[49m\u001b[43m(\u001b[49m\u001b[43minput_text\u001b[49m\u001b[43m)\u001b[49m\n",
      "Cell \u001b[1;32mIn[7], line 26\u001b[0m, in \u001b[0;36mgoogle_search\u001b[1;34m(input_text)\u001b[0m\n\u001b[0;32m     24\u001b[0m \u001b[38;5;28mprint\u001b[39m(\u001b[38;5;124mf\u001b[39m\u001b[38;5;124m\"\u001b[39m\u001b[38;5;124mRate limit or other exception: \u001b[39m\u001b[38;5;132;01m{\u001b[39;00me\u001b[38;5;132;01m}\u001b[39;00m\u001b[38;5;124m\"\u001b[39m)\n\u001b[0;32m     25\u001b[0m \u001b[38;5;66;03m# Wait for a random time between 5 to 10 seconds\u001b[39;00m\n\u001b[1;32m---> 26\u001b[0m \u001b[43mtime\u001b[49m\u001b[38;5;241;43m.\u001b[39;49m\u001b[43msleep\u001b[49m\u001b[43m(\u001b[49m\u001b[38;5;241;43m21\u001b[39;49m\u001b[43m)\u001b[49m\n\u001b[0;32m     27\u001b[0m \u001b[38;5;28;01mreturn\u001b[39;00m google_search(input_text)\n",
      "\u001b[1;31mKeyboardInterrupt\u001b[0m: "
     ]
    }
   ],
   "source": [
    "# # Mở file ở chế độ đọc\n",
    "# lines = []\n",
    "# processed_lines = []\n",
    "# with open('data_test_api_search.txt', 'r', encoding='utf-8') as file:\n",
    "#     # Duyệt từng dòng trong file\n",
    "#     for line in file:\n",
    "#         lines.append(line)\n",
    "#         # Xử lý dòng đọc được (loại bỏ ký tự xuống dòng bằng strip())\n",
    "#         processed_lines.append(api_search_for_test(line, model))\n"
   ]
  },
  {
   "cell_type": "code",
   "execution_count": null,
   "metadata": {},
   "outputs": [],
   "source": [
    "# import pandas as pd\n",
    "# processed_lines.append('')\n",
    "# df = pd.DataFrame({\n",
    "#     'Câu hỏi': lines,\n",
    "#     'Câu trả lời': processed_lines\n",
    "# })\n",
    "\n",
    "# # Ghi DataFrame vào file Excel\n",
    "# df.to_excel('ket_qua.xlsx', index=False)"
   ]
  }
 ],
 "metadata": {
  "kernelspec": {
   "display_name": "Minh-AI",
   "language": "python",
   "name": "python3"
  },
  "language_info": {
   "codemirror_mode": {
    "name": "ipython",
    "version": 3
   },
   "file_extension": ".py",
   "mimetype": "text/x-python",
   "name": "python",
   "nbconvert_exporter": "python",
   "pygments_lexer": "ipython3",
   "version": "3.12.4"
  }
 },
 "nbformat": 4,
 "nbformat_minor": 2
}
